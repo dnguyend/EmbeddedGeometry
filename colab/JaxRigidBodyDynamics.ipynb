{
  "nbformat": 4,
  "nbformat_minor": 0,
  "metadata": {
    "colab": {
      "provenance": [],
      "authorship_tag": "ABX9TyPNQ1hAklHjmKBRfFEluYCJ",
      "include_colab_link": true
    },
    "kernelspec": {
      "name": "python3",
      "display_name": "Python 3"
    },
    "language_info": {
      "name": "python"
    }
  },
  "cells": [
    {
      "cell_type": "markdown",
      "metadata": {
        "id": "view-in-github",
        "colab_type": "text"
      },
      "source": [
        "<a href=\"https://colab.research.google.com/github/dnguyend/EmbeddedGeometry/blob/main/colab/JaxRigidBodyDynamics.ipynb\" target=\"_parent\"><img src=\"https://colab.research.google.com/assets/colab-badge.svg\" alt=\"Open In Colab\"/></a>"
      ]
    },
    {
      "cell_type": "markdown",
      "source": [
        "# Applying the Curvature formulas to Rigidbody Dynamics.\n",
        "\n",
        "We use [Jax](https://jax.readthedocs.io/en/latest/index.html) for numerical derivative, in particular, [jvp](https://jax.readthedocs.io/en/latest/_autosummary/jax.jvp.html) is the command for directional derivative.\n",
        "\n",
        "For example, the directional derivative of $c(x, y)$, in $x$, at $(x, y)$, indirection $\\xi$ is given by\n",
        "\n",
        "## jvp(lambda z: c(z, y), (x,), (xi,))[1]\n"
      ],
      "metadata": {
        "id": "IarSbOzKk-x0"
      }
    },
    {
      "cell_type": "code",
      "source": [
        "import jax.numpy as jnp\n",
        "import jax.numpy.linalg as jla\n",
        "import jax.random as random\n",
        "from jax import jvp, grad, jacfwd\n",
        "from jax.config import config\n",
        "config.update(\"jax_enable_x64\", True)\n",
        "\n",
        "def sym(A):\n",
        "  return 0.5*(A+A.T)\n",
        "\n",
        "def asym(A):\n",
        "  return 0.5*(A-A.T)\n",
        "\n",
        "def genImat(sk, n):\n",
        "  Imat = jnp.abs(random.normal(sk, (n , n)))\n",
        "  Imat = sym(Imat)\n",
        "  Imat = Imat.at[jnp.diag_indices(n)].set(1.)\n",
        "  return Imat\n",
        "\n",
        "def Iop0(A):\n",
        "  return A*Imat\n",
        "\n",
        "def Iinv0(A):\n",
        "  return A/Imat\n",
        "\n",
        "def Lie(A, B):\n",
        "  return A@B - B@A\n",
        "\n",
        "def inner(U, xi, eta):\n",
        "  return jnp.sum((U.T@xi)*Iop0(U.T@eta))\n",
        "\n",
        "def GammaU(U, xi, eta):\n",
        "  return U@sym(xi.T@eta) + 0.5*U@Iinv0(Lie(U.T@xi, Iop0(U.T@eta)) + Lie(U.T@eta, Iop0(U.T@xi)))\n",
        "\n",
        "def Pi(U, Omg):\n",
        "  return U@asym(U.T@Omg)\n",
        "\n",
        "def cz(mat):\n",
        "  return jnp.max(jnp.abs(mat))\n"
      ],
      "metadata": {
        "id": "-_7xvXlTlCBB"
      },
      "execution_count": null,
      "outputs": []
    },
    {
      "cell_type": "markdown",
      "source": [
        "#  Check metric compatibility:\n",
        "The Jax expression \n",
        "## (jvp(lambda U: inner(U, Pi(U, eta), Pi(U, eta)), (U,), (xi,))[1]##\n",
        "is the directional derivative in direction $\\xi$ of \n",
        "$$ \\langle \\Pi(U)\\eta, \\Pi(U)\\eta, \\rangle_{g, U}$$\n",
        "Note $U\\mapsto \\Pi(U)\\eta$ is a vector field. We check it is  $2\\langle \\eta, \\Gamma(U; \\xi, \\eta)\\rangle_{g, U}$, given by the python command\n",
        "## 2*inner(U, eta, GammaU(U, xi, eta))"
      ],
      "metadata": {
        "id": "1ghWTGZxpSgr"
      }
    },
    {
      "cell_type": "code",
      "source": [
        "n = 3\n",
        "\n",
        "\n",
        "\n",
        "key = random.PRNGKey(0)\n",
        "key, sk = random.split(key)\n",
        "U, _ = jla.qr(random.normal(sk, (n, n)))\n",
        "\n",
        "def randvec(sk, n, U=None):\n",
        "  if U is None:\n",
        "    return asym(random.normal(sk, (n, n)))\n",
        "  else:\n",
        "    return U@asym(random.normal(sk, (n, n)))\n",
        "\n",
        "key, sk = random.split(key)\n",
        "Imat = genImat(sk, n)\n",
        "\n",
        "key, sk = random.split(key)\n",
        "xi = randvec(sk, n, U)\n",
        "key, sk = random.split(key)\n",
        "eta = randvec(sk, n, U)\n",
        "\n",
        "\n",
        "print(\"CHECK GAMMA IS A CHRISTOFFEL FUNCTION - Nabla produces a vector field\")\n",
        "display(U.T@(jvp(lambda U: Pi(U, eta), (U,), (xi,))[1] + GammaU(U, xi, eta)))\n",
        "\n",
        "print(\"CHECK GAMMA IS METRIC COMPATIBLE\")\n",
        "display(jvp(lambda U: inner(U, Pi(U, eta), Pi(U, eta)), (U,), (xi,))[1])\n",
        "display(2*inner(U, eta, GammaU(U, xi, eta)))\n",
        "\n"
      ],
      "metadata": {
        "colab": {
          "base_uri": "https://localhost:8080/",
          "height": 165
        },
        "id": "Ga0xy5cPpWhq",
        "outputId": "16a586c5-76ea-41bd-a120-4487a605b356"
      },
      "execution_count": null,
      "outputs": [
        {
          "output_type": "stream",
          "name": "stderr",
          "text": [
            "WARNING:jax._src.xla_bridge:No GPU/TPU found, falling back to CPU. (Set TF_CPP_MIN_LOG_LEVEL=0 and rerun for more info.)\n"
          ]
        },
        {
          "output_type": "stream",
          "name": "stdout",
          "text": [
            "CHECK GAMMA IS A CHRISTOFFEL FUNCTION - Nabla produces a vector field\n"
          ]
        },
        {
          "output_type": "display_data",
          "data": {
            "text/plain": [
              "Array([[-1.69776750e-16,  2.71117699e-03, -1.30355786e-01],\n",
              "       [-2.71117699e-03,  1.86375182e-16,  7.98805202e-02],\n",
              "       [ 1.30355786e-01, -7.98805202e-02,  5.01206066e-18]],      dtype=float64)"
            ]
          },
          "metadata": {}
        },
        {
          "output_type": "stream",
          "name": "stdout",
          "text": [
            "CHECK GAMMA IS METRIC COMPATIBLE\n"
          ]
        },
        {
          "output_type": "display_data",
          "data": {
            "text/plain": [
              "Array(0.26541833, dtype=float64)"
            ]
          },
          "metadata": {}
        },
        {
          "output_type": "display_data",
          "data": {
            "text/plain": [
              "Array(0.26541833, dtype=float64)"
            ]
          },
          "metadata": {}
        }
      ]
    },
    {
      "cell_type": "markdown",
      "source": [
        "# Curvature\n",
        "The curvature $D_{\\xi_1}\\Gamma(\\xi_2, \\xi_3)\n",
        "- D_{\\xi_2}\\Gamma(\\xi_2, \\xi_3) +\n",
        "D_{\\xi_1}\\Gamma(U; \\xi_1, \\xi_3)\n",
        "+ \\Gamma(\\xi_1, \\Gamma(\\xi_2, \\xi_3))\n",
        "- \\Gamma(\\xi_2, \\Gamma(\\xi_1, \\xi_3))\n",
        "$\n",
        "* We implement the directional derivatives by Jax. We verify the [Bianchi identities](https://en.wikipedia.org/wiki/Riemann_curvature_tensor#Symmetries_and_identities) below "
      ],
      "metadata": {
        "id": "d6cTF3ZuauKo"
      }
    },
    {
      "cell_type": "code",
      "source": [
        "def CurvJax31(U, Xi1, Xi2, Xi3):\n",
        "  DG1 = jvp(lambda q: GammaU(q, Xi2, Xi3), (U, ), (Xi1, ))[1]\n",
        "  DG2 = jvp(lambda q: GammaU(q, Xi1, Xi3), (U, ), (Xi2, ))[1]\n",
        "  GG1 = GammaU(U, Xi1, GammaU(U, Xi2, Xi3))\n",
        "  GG2 = GammaU(U, Xi2, GammaU(U, Xi1, Xi3))\n",
        "\n",
        "  return DG1 - DG2 + GG1 - GG2\n",
        "\n",
        "\n",
        "def CurvJax4(U, Xi1, Xi2, Xi3, Xi4):\n",
        "  return inner(U, CurvJax31(U, Xi1, Xi2, Xi3),Xi4)\n",
        "\n",
        "# check Bianchi\n",
        "print(\"CHECK BIANCHI\")\n",
        "key, sk = random.split(key)\n",
        "Xi1 = randvec(sk, n, U)\n",
        "\n",
        "key, sk = random.split(key)\n",
        "Xi2 = randvec(sk, n, U)\n",
        "\n",
        "key, sk = random.split(key)\n",
        "Xi3 = randvec(sk, n, U)\n",
        "\n",
        "key, sk = random.split(key)\n",
        "Xi4 = randvec(sk, n, U)\n",
        "\n",
        "display(CurvJax4(U, Xi1, Xi2, Xi3, Xi4))\n",
        "display(CurvJax4(U, Xi2, Xi1, Xi3, Xi4))\n",
        "display(CurvJax4(U, Xi1, Xi2, Xi4, Xi3))\n",
        "display(CurvJax4(U, Xi3, Xi4, Xi1, Xi2))\n"
      ],
      "metadata": {
        "colab": {
          "base_uri": "https://localhost:8080/",
          "height": 109
        },
        "id": "tnNDT81ruzZA",
        "outputId": "424d168e-fe0f-432f-dc79-106620effac5"
      },
      "execution_count": null,
      "outputs": [
        {
          "output_type": "stream",
          "name": "stdout",
          "text": [
            "CHECK BIANCHI\n"
          ]
        },
        {
          "output_type": "display_data",
          "data": {
            "text/plain": [
              "Array(0.66070969, dtype=float64)"
            ]
          },
          "metadata": {}
        },
        {
          "output_type": "display_data",
          "data": {
            "text/plain": [
              "Array(-0.66070969, dtype=float64)"
            ]
          },
          "metadata": {}
        },
        {
          "output_type": "display_data",
          "data": {
            "text/plain": [
              "Array(-0.66070969, dtype=float64)"
            ]
          },
          "metadata": {}
        },
        {
          "output_type": "display_data",
          "data": {
            "text/plain": [
              "Array(0.66070969, dtype=float64)"
            ]
          },
          "metadata": {}
        }
      ]
    },
    {
      "cell_type": "markdown",
      "source": [
        "For the Second Bianchi identities we need $\\nabla R$, the covariant derivative of the tensor $R$, which we implement below using jvp"
      ],
      "metadata": {
        "id": "NlrdMKief1yt"
      }
    },
    {
      "cell_type": "code",
      "source": [
        "print(\"CHECK THE SECOND BIANCHI Identity\")\n",
        "def nablaR(U, Xi1, Xi2, Xi3, Xi4):\n",
        "  # extend Xi1, Xi2 to vector fields by projection then take\n",
        "  # covariant derivatives.\n",
        "\n",
        "  def cov(q, Xi1, Xi2):\n",
        "      return jvp(lambda x: Pi(x, Xi2), (q,), (Xi1,))[1] \\\n",
        "        + GammaU(q, Xi1, Xi2)\n",
        "\n",
        "  Tot = jvp(lambda x: CurvJax31(\n",
        "      x,\n",
        "    Pi(x, Xi2),\n",
        "    Pi(x, Xi3),\n",
        "    Pi(x, Xi4)),\n",
        "    (U,), (Xi1,))[1] \\\n",
        "      + GammaU(U, Xi1, CurvJax31(U, Xi2, Xi3, Xi4))\n",
        "  R12 = CurvJax31(U, cov(U, Xi1, Xi2), Xi3, Xi4)\n",
        "  R13 = CurvJax31(U, Xi2, cov(U, Xi1, Xi3), Xi4)\n",
        "  R14 = CurvJax31(U, Xi2, Xi3, cov(U, Xi1, Xi4))\n",
        "  return Tot - R12 - R13 - R14\n",
        "\n",
        "f1 = nablaR(U, Xi1, Xi2, Xi3, Xi4)\n",
        "f2 = nablaR(U, Xi2, Xi3, Xi1, Xi4)\n",
        "f3 = nablaR(U, Xi3, Xi1, Xi2, Xi4)\n",
        "\n",
        "print(f1 + f2 + f3)\n"
      ],
      "metadata": {
        "colab": {
          "base_uri": "https://localhost:8080/"
        },
        "id": "9s2hUM43f1R-",
        "outputId": "d46dea04-990b-495b-d71f-e99e2d679a95"
      },
      "execution_count": null,
      "outputs": [
        {
          "output_type": "stream",
          "name": "stdout",
          "text": [
            "CHECK THE SECOND BIANCHI Identity\n",
            "[[-5.13478149e-16  1.28369537e-15 -1.01134379e-15]\n",
            " [-7.77156117e-16 -2.63677968e-16 -5.96744876e-16]\n",
            " [-9.36750677e-17  2.77555756e-17  8.32667268e-17]]\n"
          ]
        }
      ]
    },
    {
      "cell_type": "markdown",
      "source": [
        "$\\DeclareMathOperator{\\ad}{ad}$\n",
        "$\\newcommand{\\cI}{\\mathcal{I}}$\n",
        "$\\DeclareMathOperator{\\adI}{ad_{\\cI}}$\n",
        "$\\newcommand{\\mrGamma}{\\mathring{\\Gamma}}$\n",
        "# Comparing with Euler-Arnold's type formula for curvature of $SE(n)$ with left-invariant metric\n",
        "* Only the $SO(n)$ component contributes to the metric.\n",
        "* Euler-Arnold: for antisymmetric matrices $A, B, C$ define the $\\cI$-bracket\n",
        "$$[A, B]_{\\cI} := [A, B] + \\cI^{-1}[A, \\cI(B)] + \\cI^{-1}[B, \\cI(A)]$$\n",
        "* Curvature using Euler-Arnold:\n",
        "$$R = -\\frac{1}{2}[[A, B], C]_{\\cI} + \\frac{1}{4}[A, [B,C]_{\\cI}]_{\\cI} -\n",
        "\\frac{1}{4}[B[A,C]_{\\cI}]_{\\cI}\n",
        "$$\n",
        "Set $\\adI(A, B) := \\cI^{-1}[A,\\cI(B)]$\n",
        "* $[A, B]_{\\cI} = [A, B] + \\adI(A, B) +\\adI(B, A)$\n",
        "\n",
        "For tangent vectors $A, B, C$ to $SO(n)$ at $I_n$:\n",
        "* $\\Gamma = -(AB)_{sym} +AB_{sym} +\\frac{1}{2}(\\adI(B, A) + \\adI(A, B))$\n",
        "* $\\mrGamma = \\frac{1}{2}(\\adI(B, A) + \\adI(A, B))$\n",
        "* $D_A\\mrGamma(B, C) = \\frac{1}{2}A\\{\\adI(B, C)+ \\adI(C, B)\\} +\n",
        "\\frac{1}{2}\\cI^{-1}\\{[-AB, \\cI(C)] + [B,-\\cI(AC)] + [-AC, \\cI(B)] +[C, -\\cI(AB)]\\}$\n",
        "* Curvature using the embedded method:\n",
        "$$R^{Emb}_{AB}C = D_A\\mrGamma(B, C) - D_B\\mrGamma(A, C)\n",
        "+ \\Gamma(A, \\Gamma(B, C)) - \\Gamma(B, \\Gamma(A, C))$$\n",
        "\n",
        "We verify both curvature formulas agree numerically below. Presumably we can verify they agree algebraically for another confirmation - but both formulas are long when expanded.\n",
        "\n",
        "The sign convention for curvature in the reference below is opposite of the sign convention used here.\n",
        "\n",
        "[1] D. Nguyen, Curvatures of Stiefel manifolds with deformation metrics, Journal of Lie Theory 32 (2022) 563–600."
      ],
      "metadata": {
        "id": "2OGgL1yKLG2s"
      }
    },
    {
      "cell_type": "code",
      "source": [
        "def Iop(Imat, A):\n",
        "  return A*Imat\n",
        "\n",
        "def Iinv(Imat, A):\n",
        "  return A/Imat\n",
        "\n",
        "\n",
        "def adI(Imat, A, B):\n",
        "  return Iinv(Imat, Lie(A, Iop(Imat, B)))\n",
        "\n",
        "def LieI(Imat, A, B):\n",
        "  return Lie(A, B) + adI(Imat, A, B) + adI(Imat, B, A)\n",
        "\n",
        "def mrGamma(Imat, A, B):\n",
        "  return 0.5*(adI(Imat, A, B) + adI(Imat, B, A))\n",
        "\n",
        "def Gamma(Imat, A, B):\n",
        "  return -sym(A@B) + A@sym(B) + 0.5*(adI(Imat, A, B) + adI(Imat, B, A))\n",
        "\n",
        "def DmrGamma(Imat, A, B, C):\n",
        "  return 0.5*A@adI(Imat, B, C) \\\n",
        "    + 0.5*A@adI(Imat, C, B) \\\n",
        "    + 0.5*adI(Imat, -A@B, C) \\\n",
        "    + 0.5*adI(Imat, B, -A@C) \\\n",
        "    + 0.5*adI(Imat, -A@C, B) \\\n",
        "    + 0.5*adI(Imat, C, -A@B)\n",
        "\n",
        "def CurvI(Imat, A, B, C):\n",
        "  return -0.5*LieI(Imat, Lie(A, B), C) \\\n",
        "    + 0.25*LieI(Imat, A, LieI(Imat, B, C)) \\\n",
        "    - 0.25*LieI(Imat, B, LieI(Imat, A, C))\n",
        "\n",
        "def CurvEmbedded(Imat, A, B, C):\n",
        "  return DmrGamma(Imat, A, B, C) \\\n",
        "    - DmrGamma(Imat, B, A, C) \\\n",
        "    + Gamma(Imat, A, Gamma(Imat, B, C)) \\\n",
        "    - Gamma(Imat, B, Gamma(Imat, A, C))\n"
      ],
      "metadata": {
        "id": "svfxfmmjnazp"
      },
      "execution_count": null,
      "outputs": []
    },
    {
      "cell_type": "markdown",
      "source": [
        "# Compare the numerical curvature by Jax with the curvature by Arnold's method"
      ],
      "metadata": {
        "id": "Kd3gOCA4w3cj"
      }
    },
    {
      "cell_type": "code",
      "source": [
        "print(CurvJax31(U, Xi1, Xi2, Xi3) -  U@CurvEmbedded(Imat, U.T@Xi1, U.T@Xi2, U.T@Xi3))"
      ],
      "metadata": {
        "colab": {
          "base_uri": "https://localhost:8080/"
        },
        "id": "L8Zr3qD-w_XK",
        "outputId": "fab3bb42-fbf4-4364-85ad-31a91d7981c5"
      },
      "execution_count": null,
      "outputs": [
        {
          "output_type": "stream",
          "name": "stdout",
          "text": [
            "[[ 5.55111512e-17 -5.55111512e-17 -1.38777878e-17]\n",
            " [-3.94215910e-16 -2.77555756e-17  8.32667268e-17]\n",
            " [ 1.17527515e-16  5.89805982e-17 -2.35922393e-16]]\n"
          ]
        }
      ]
    },
    {
      "cell_type": "markdown",
      "source": [
        "## Test for n=2 to 10, for 10 scenarios each"
      ],
      "metadata": {
        "id": "Qe6WiV-nuhb_"
      }
    },
    {
      "cell_type": "code",
      "source": [
        "for n in range(2, 5):\n",
        "  for i in range(10):\n",
        "    key, sk = random.split(key)\n",
        "    A = randvec(sk, n)\n",
        "    key, sk = random.split(key)\n",
        "    B = randvec(sk, n)\n",
        "    key, sk = random.split(key)\n",
        "    C = randvec(sk, n)\n",
        "\n",
        "    Imat = genImat(sk, n)\n",
        "\n",
        "    c1 = CurvI(Imat, A, B, C)\n",
        "    c2 = CurvEmbedded(Imat, A, B, C)\n",
        "    display(cz(c1 - c2))\n",
        "\n",
        "\n"
      ],
      "metadata": {
        "colab": {
          "base_uri": "https://localhost:8080/",
          "height": 571
        },
        "id": "OBSxC1HHfT7c",
        "outputId": "725064e3-e993-4fab-ca34-6dbc2159b5d8"
      },
      "execution_count": null,
      "outputs": [
        {
          "output_type": "display_data",
          "data": {
            "text/plain": [
              "Array(1.11022302e-16, dtype=float64)"
            ]
          },
          "metadata": {}
        },
        {
          "output_type": "display_data",
          "data": {
            "text/plain": [
              "Array(0., dtype=float64)"
            ]
          },
          "metadata": {}
        },
        {
          "output_type": "display_data",
          "data": {
            "text/plain": [
              "Array(0., dtype=float64)"
            ]
          },
          "metadata": {}
        },
        {
          "output_type": "display_data",
          "data": {
            "text/plain": [
              "Array(0., dtype=float64)"
            ]
          },
          "metadata": {}
        },
        {
          "output_type": "display_data",
          "data": {
            "text/plain": [
              "Array(0., dtype=float64)"
            ]
          },
          "metadata": {}
        },
        {
          "output_type": "display_data",
          "data": {
            "text/plain": [
              "Array(0., dtype=float64)"
            ]
          },
          "metadata": {}
        },
        {
          "output_type": "display_data",
          "data": {
            "text/plain": [
              "Array(3.46944695e-18, dtype=float64)"
            ]
          },
          "metadata": {}
        },
        {
          "output_type": "display_data",
          "data": {
            "text/plain": [
              "Array(2.22044605e-16, dtype=float64)"
            ]
          },
          "metadata": {}
        },
        {
          "output_type": "display_data",
          "data": {
            "text/plain": [
              "Array(0., dtype=float64)"
            ]
          },
          "metadata": {}
        },
        {
          "output_type": "display_data",
          "data": {
            "text/plain": [
              "Array(0., dtype=float64)"
            ]
          },
          "metadata": {}
        },
        {
          "output_type": "display_data",
          "data": {
            "text/plain": [
              "Array(2.77555756e-16, dtype=float64)"
            ]
          },
          "metadata": {}
        },
        {
          "output_type": "display_data",
          "data": {
            "text/plain": [
              "Array(3.55271368e-15, dtype=float64)"
            ]
          },
          "metadata": {}
        },
        {
          "output_type": "display_data",
          "data": {
            "text/plain": [
              "Array(6.9388939e-17, dtype=float64)"
            ]
          },
          "metadata": {}
        },
        {
          "output_type": "display_data",
          "data": {
            "text/plain": [
              "Array(4.4408921e-16, dtype=float64)"
            ]
          },
          "metadata": {}
        },
        {
          "output_type": "display_data",
          "data": {
            "text/plain": [
              "Array(2.22044605e-16, dtype=float64)"
            ]
          },
          "metadata": {}
        },
        {
          "output_type": "display_data",
          "data": {
            "text/plain": [
              "Array(8.8817842e-16, dtype=float64)"
            ]
          },
          "metadata": {}
        },
        {
          "output_type": "display_data",
          "data": {
            "text/plain": [
              "Array(4.71844785e-16, dtype=float64)"
            ]
          },
          "metadata": {}
        },
        {
          "output_type": "display_data",
          "data": {
            "text/plain": [
              "Array(3.67761377e-16, dtype=float64)"
            ]
          },
          "metadata": {}
        },
        {
          "output_type": "display_data",
          "data": {
            "text/plain": [
              "Array(2.22044605e-16, dtype=float64)"
            ]
          },
          "metadata": {}
        },
        {
          "output_type": "display_data",
          "data": {
            "text/plain": [
              "Array(2.22044605e-16, dtype=float64)"
            ]
          },
          "metadata": {}
        },
        {
          "output_type": "display_data",
          "data": {
            "text/plain": [
              "Array(8.8817842e-16, dtype=float64)"
            ]
          },
          "metadata": {}
        },
        {
          "output_type": "display_data",
          "data": {
            "text/plain": [
              "Array(1.55431223e-15, dtype=float64)"
            ]
          },
          "metadata": {}
        },
        {
          "output_type": "display_data",
          "data": {
            "text/plain": [
              "Array(1.24344979e-14, dtype=float64)"
            ]
          },
          "metadata": {}
        },
        {
          "output_type": "display_data",
          "data": {
            "text/plain": [
              "Array(1.33226763e-15, dtype=float64)"
            ]
          },
          "metadata": {}
        },
        {
          "output_type": "display_data",
          "data": {
            "text/plain": [
              "Array(8.8817842e-16, dtype=float64)"
            ]
          },
          "metadata": {}
        },
        {
          "output_type": "display_data",
          "data": {
            "text/plain": [
              "Array(3.99680289e-15, dtype=float64)"
            ]
          },
          "metadata": {}
        },
        {
          "output_type": "display_data",
          "data": {
            "text/plain": [
              "Array(2.77555756e-16, dtype=float64)"
            ]
          },
          "metadata": {}
        },
        {
          "output_type": "display_data",
          "data": {
            "text/plain": [
              "Array(2.44249065e-15, dtype=float64)"
            ]
          },
          "metadata": {}
        },
        {
          "output_type": "display_data",
          "data": {
            "text/plain": [
              "Array(4.71844785e-16, dtype=float64)"
            ]
          },
          "metadata": {}
        },
        {
          "output_type": "display_data",
          "data": {
            "text/plain": [
              "Array(1.77635684e-15, dtype=float64)"
            ]
          },
          "metadata": {}
        }
      ]
    }
  ]
}