{
  "nbformat": 4,
  "nbformat_minor": 0,
  "metadata": {
    "colab": {
      "provenance": [],
      "authorship_tag": "ABX9TyNpvpVgmFPCVrAUmFBva6Sl",
      "include_colab_link": true
    },
    "kernelspec": {
      "name": "python3",
      "display_name": "Python 3"
    },
    "language_info": {
      "name": "python"
    }
  },
  "cells": [
    {
      "cell_type": "markdown",
      "metadata": {
        "id": "view-in-github",
        "colab_type": "text"
      },
      "source": [
        "<a href=\"https://colab.research.google.com/github/dnguyend/EmbeddedGeometry/blob/main/colab/KMCTests.ipynb\" target=\"_parent\"><img src=\"https://colab.research.google.com/assets/colab-badge.svg\" alt=\"Open In Colab\"/></a>"
      ]
    },
    {
      "cell_type": "markdown",
      "source": [
        "# Overview\n",
        "We use [Jax](https://jax.readthedocs.io/en/latest/index.html) for numerical derivative, in particular, [jvp](https://jax.readthedocs.io/en/latest/_autosummary/jax.jvp.html) is the command for directional derivative.\n",
        "\n",
        "\n",
        "\n",
        "To find directional derivative of a function $c(x, y)$, in variable $x$ in direction $\\xi$ we only need to write\n",
        "\n",
        "# jvp(lambda x: c(x, y), (x,), (xi,))\n",
        "where **lamda x: c(x, y)**  creates a function in $x$ and $y$ is becomes a parameter. JVP stands for \"Jacobian vector product\"."
      ],
      "metadata": {
        "id": "wjjT702unWRN"
      }
    },
    {
      "cell_type": "code",
      "source": [
        "!git clone https://github.com/dnguyend/EmbeddedGeometry.git"
      ],
      "metadata": {
        "colab": {
          "base_uri": "https://localhost:8080/"
        },
        "id": "yhbJztdnExhK",
        "outputId": "ceb8974c-0ed6-4823-f7b6-c6a1530d7edb"
      },
      "execution_count": 1,
      "outputs": [
        {
          "output_type": "stream",
          "name": "stdout",
          "text": [
            "Cloning into 'EmbeddedGeometry'...\n",
            "remote: Enumerating objects: 12, done.\u001b[K\n",
            "remote: Counting objects: 100% (12/12), done.\u001b[K\n",
            "remote: Compressing objects: 100% (9/9), done.\u001b[K\n",
            "remote: Total 12 (delta 2), reused 5 (delta 1), pack-reused 0\u001b[K\n",
            "Unpacking objects: 100% (12/12), 17.36 KiB | 4.34 MiB/s, done.\n"
          ]
        }
      ]
    },
    {
      "cell_type": "code",
      "execution_count": 2,
      "metadata": {
        "id": "FkUbaw6pnSJ0"
      },
      "outputs": [],
      "source": [
        "import jax.numpy as jnp\n",
        "from jax import jvp, jacfwd, random\n",
        "from jax.config import config\n",
        "\n",
        "from IPython.display import display\n",
        "\n",
        "from EmbeddedGeometry.src.kmc import (sym2, Teval, KMC, KMCDivergence, KMCSphere, KMCAntenna)\n",
        "\n",
        "\n",
        "config.update(\"jax_enable_x64\", True)\n"
      ]
    },
    {
      "cell_type": "markdown",
      "source": [
        "Import the kmc module which contains main code. We can view the code by running !cat kmc.py."
      ],
      "metadata": {
        "id": "tPWUhxPuDN-z"
      }
    },
    {
      "cell_type": "code",
      "source": [
        "import EmbeddedGeometry.src.kmc as kmc"
      ],
      "metadata": {
        "id": "mu0KTeemCy7v"
      },
      "execution_count": 3,
      "outputs": []
    },
    {
      "cell_type": "markdown",
      "source": [
        " Function $kmc.KMC.kmc$ is the inner product. We show the source code of inner product, Gamma, Curvature, conjugate of Gamma ( for the conjugate connection in the Euclidean ambient"
      ],
      "metadata": {
        "id": "pIxdR2ySE_Wi"
      }
    },
    {
      "cell_type": "code",
      "source": [
        "import inspect\n",
        "print(inspect.getsource(kmc.KMC.kmc))\n",
        "print(inspect.getsource(kmc.KMC.Gamma))\n",
        "print(inspect.getsource(kmc.KMC.Curvature))\n",
        "print(inspect.getsource(kmc.KMC.conjGamma))"
      ],
      "metadata": {
        "colab": {
          "base_uri": "https://localhost:8080/"
        },
        "id": "vHV1hBOroCzw",
        "outputId": "9990424c-d3eb-403b-861e-1c743ea87ef3"
      },
      "execution_count": 4,
      "outputs": [
        {
          "output_type": "stream",
          "name": "stdout",
          "text": [
            "    def kmc(self, q, Omg1, Omg2):\n",
            "        \"\"\"The metric. return a number\n",
            "        \"\"\"\n",
            "        n = self.n        \n",
            "        x, y = self.split(q)\n",
            "        C = self.bddc(x, y, self.params)\n",
            "        return -0.5*jnp.sum(Omg1[:n]*(C@Omg2[n:])) \\\n",
            "            - 0.5*jnp.sum(Omg2[:n]*(C@Omg1[n:]))\n",
            "\n",
            "    def Gamma(self, q, Omg1, Omg2):\n",
            "        n = self.n\n",
            "        x, y = self.split(q)                \n",
            "        \n",
            "        C, Cx = jvp(lambda x: self.bddc(x, y, self.params), (x,), (Omg1[:n],))\n",
            "        Cy = jvp(lambda y: self.bddc(x, y, self.params), (y,), (Omg1[n:],))[1]\n",
            "        return jnp.concatenate([jla.solve(C.T, Cx.T@Omg2[:n]),\n",
            "                                jla.solve(C, Cy@Omg2[n:])])\n",
            "\n",
            "    def Curvature(self, q, Omg1, Omg2, Omg3):\n",
            "        n = self.n\n",
            "        x, y = self.split(q)                \n",
            "        \n",
            "        DG1 = jvp(lambda q: self.Gamma(q, Omg2, Omg3), (q, ), (Omg1, ))[1]\n",
            "    \n",
            "        DG2 = jvp(lambda q: self.Gamma(q, Omg1, Omg3), (q, ), (Omg2, ))[1]\n",
            "        GG1 = self.Gamma(q, Omg1, self.Gamma(q, Omg2, Omg3))\n",
            "        GG2 = self.Gamma(q, Omg2, self.Gamma(q, Omg1, Omg3))\n",
            "        \n",
            "        return DG1 - DG2 + GG1 - GG2\n",
            "\n",
            "    def conjGamma(self, q, Xi, Omg):\n",
            "        \"\"\" Conjugate Gamma with Xi fixed, in Euclidean metric\n",
            "        \"\"\"\n",
            "        n = self.n\n",
            "        x, y = self.split(q)        \n",
            "        C = self.bddc(x, y, self.params)\n",
            "        bddc_xxi = jvp(lambda x: self.bddc(x, y, self.params), (x,), (Xi[:n],))[1]\n",
            "        bddcT_ybxi = jvp(lambda y: self.bddc(x, y, self.params).T, (y,), (Xi[n:],))[1]\n",
            "        return jnp.concatenate(\n",
            "            [- bddc_xxi@jla.solve(C, Omg[:n]),\n",
            "             - bddcT_ybxi@jla.solve(C.T, Omg[n:])])    \n",
            "\n"
          ]
        }
      ]
    },
    {
      "cell_type": "markdown",
      "source": [
        "First, we test the KMC metric on two open subsets. We generate the function $c$, a vector polynomial of dimension up to 4"
      ],
      "metadata": {
        "id": "JFY9djUfDm_H"
      }
    },
    {
      "cell_type": "code",
      "source": [
        "n = 3\n",
        "\n",
        "key = random.PRNGKey(0)    \n",
        "key, sk = random.split(key)\n",
        "\n",
        "Cvec = random.normal(sk, (2*n,))\n",
        "key, sk = random.split(key)\n",
        "\n",
        "Cmat = random.normal(sk, (2*n, 2*n))\n",
        "\n",
        "key, sk = random.split(key)    \n",
        "Ctensor = random.normal(sk, (2*n, 2*n, 2*n))\n",
        "key, sk = random.split(key)        \n",
        "Ctensor4 = random.normal(sk, (2*n, 2*n, 2*n, 2*n))\n",
        "\n",
        "# making a complicated c\n",
        "\n",
        "def c(x, y, params):\n",
        "    q = jnp.block([x, y])\n",
        "    Cvec, Cmat, Ctensor, Ctensor4 = params\n",
        "    return Teval(Cvec, [q]) + Teval(Cmat, [q, q]) + Teval(Ctensor, [q, q, q]) \\\n",
        "        + Teval(Ctensor4, [q, q, q, q])\n",
        "    \n"
      ],
      "metadata": {
        "id": "sIbZZVBNoTM-",
        "colab": {
          "base_uri": "https://localhost:8080/"
        },
        "outputId": "d712309f-3dfa-4cf7-9ffc-fe80c31a00af"
      },
      "execution_count": 5,
      "outputs": [
        {
          "output_type": "stream",
          "name": "stderr",
          "text": [
            "WARNING:jax._src.xla_bridge:No GPU/TPU found, falling back to CPU. (Set TF_CPP_MIN_LOG_LEVEL=0 and rerun for more info.)\n"
          ]
        }
      ]
    },
    {
      "cell_type": "markdown",
      "source": [
        "Generate a random vector then test metric compatibility. \n",
        "Let $q$ be the manifold variable.\n",
        "Take the vector field $Y = Aq +B$ for a matrix $A$ of size $2n\\times 2n$, $B$ a vector of size $2n$.\n",
        "We check\n",
        "\n",
        "$D_{\\omega} \\langle Y, Y\\rangle_{KM} = 2\\langle Y, \\nabla_{\\omega}Y\\rangle_{KM}$"
      ],
      "metadata": {
        "id": "k-shL8InFmQZ"
      }
    },
    {
      "cell_type": "code",
      "source": [
        "key, sk = random.split(key)\n",
        "q = random.normal(sk, (2*n, ))\n",
        "\n",
        "KM = KMC(n, c, [Cvec, Cmat, Ctensor, Ctensor4])\n",
        "\n",
        "\n",
        "key, sk = random.split(key)   \n",
        "A = random.normal(sk, (2*n, 2*n))\n",
        "\n",
        "key, sk = random.split(key)   \n",
        "B = random.normal(sk, (2*n, ))\n",
        "\n",
        "key, sk = random.split(key)   \n",
        "Omg =  random.normal(sk, (2*n,))\n",
        "\n",
        "# a random point on the manifold\n",
        "key, sk = random.split(key)\n",
        "q = random.normal(sk, (2*n, ))\n",
        "\n",
        "# a random point on the manifold\n",
        "display(jvp(lambda q: KM.kmc(q, A@q+B, A@q+B), (q,), (Omg,))[1])\n",
        "display(2*KM.kmc(q, A@q+B, A@Omg + KM.Gamma(q, Omg, A@q+B)))\n",
        "\n",
        "\n"
      ],
      "metadata": {
        "colab": {
          "base_uri": "https://localhost:8080/",
          "height": 54
        },
        "id": "EnAmg3Q7Fk9p",
        "outputId": "71af5a8d-5dd0-4e99-a986-44f062897598"
      },
      "execution_count": 6,
      "outputs": [
        {
          "output_type": "display_data",
          "data": {
            "text/plain": [
              "Array(-15.13011365, dtype=float64)"
            ]
          },
          "metadata": {}
        },
        {
          "output_type": "display_data",
          "data": {
            "text/plain": [
              "Array(-15.13011365, dtype=float64)"
            ]
          },
          "metadata": {}
        }
      ]
    },
    {
      "cell_type": "markdown",
      "source": [
        "Curvature"
      ],
      "metadata": {
        "id": "XCdJ9fJzK7gB"
      }
    },
    {
      "cell_type": "code",
      "source": [
        "key, sk = random.split(key)    \n",
        "Omg1 = random.normal(sk, (2*n,))\n",
        "\n",
        "key, sk = random.split(key)   \n",
        "Omg2 = random.normal(sk, (2*n,))\n",
        "\n",
        "key, sk = random.split(key)   \n",
        "Omg3 = random.normal(sk, (2*n,))\n",
        "\n",
        "key, sk = random.split(key)   \n",
        "Omg4 = random.normal(sk, (2*n,))\n",
        "\n",
        "\n",
        "KM = KMC(n, c, [Cvec, Cmat, Ctensor, Ctensor4])\n",
        "\n",
        "key, sk = random.split(key)    \n",
        "Omg1 = random.normal(sk, (2*n,))\n",
        "\n",
        "key, sk = random.split(key)   \n",
        "Omg2 = random.normal(sk, (2*n,))\n",
        "\n",
        "key, sk = random.split(key)   \n",
        "Omg3 = random.normal(sk, (2*n,))\n",
        "\n",
        "key, sk = random.split(key)   \n",
        "Omg4 = random.normal(sk, (2*n,))\n",
        "    \n",
        "print(KM.Curv4(q, Omg1, Omg2, Omg3, Omg4))\n",
        "print(KM.Curv4(q, Omg2, Omg1, Omg3, Omg4))\n",
        "print(KM.Curv4(q, Omg1, Omg2, Omg4, Omg3))\n",
        "print(KM.Curv4(q, Omg3, Omg4, Omg1, Omg2))    \n"
      ],
      "metadata": {
        "colab": {
          "base_uri": "https://localhost:8080/"
        },
        "id": "FmXEDzzQXinz",
        "outputId": "48fe7d92-b142-44ae-9229-620f245513ea"
      },
      "execution_count": 7,
      "outputs": [
        {
          "output_type": "stream",
          "name": "stdout",
          "text": [
            "248.038939041822\n",
            "-248.03893904182198\n",
            "-248.0389390418221\n",
            "248.03893904182183\n"
          ]
        }
      ]
    },
    {
      "cell_type": "markdown",
      "source": [
        "# The Generalized Reflector Antenna\n",
        "\n",
        "We test by two methods: we using the geometry of the sphere, with the general formulas, and the simplified formulas for the reflector antenna. We first generate two objects:"
      ],
      "metadata": {
        "id": "6M1rU9yPLLQA"
      }
    },
    {
      "cell_type": "code",
      "source": [
        "n = 5\n",
        "key = random.PRNGKey(0)    \n",
        "key, sk = random.split(key)\n",
        "Lbd = sym2(random.normal(sk, (n, n)))\n",
        "Ant = KMCAntenna(Lbd)\n",
        "\n",
        "def c(x, y, Lambda):\n",
        "    xmy = (1-jnp.sum(x*(Lambda@y)))        \n",
        "    return -0.5*jnp.log(xmy)\n",
        "\n",
        "KMA = KMC(n, c, Lbd)\n",
        "KMS = KMCSphere(KMA)\n",
        "\n"
      ],
      "metadata": {
        "id": "PX0yjsjqL5Iy"
      },
      "execution_count": 8,
      "outputs": []
    },
    {
      "cell_type": "markdown",
      "source": [
        "Comparing the code, for example Gamma. KMS uses automatic differentiation, Ant uses the simplification in the paper"
      ],
      "metadata": {
        "id": "Ll7-0-wUMKRd"
      }
    },
    {
      "cell_type": "code",
      "source": [
        "\n",
        "print(inspect.getsource(KMS.Gamma))\n",
        "print(inspect.getsource(Ant.Gamma))"
      ],
      "metadata": {
        "colab": {
          "base_uri": "https://localhost:8080/"
        },
        "id": "3pKHi5_KMQwt",
        "outputId": "64da22a1-d213-4cb0-b234-783d0d10da2e"
      },
      "execution_count": 9,
      "outputs": [
        {
          "output_type": "stream",
          "name": "stdout",
          "text": [
            "    def Gamma(self, q, Xi1, Xi2):\n",
            "        n = self.n\n",
            "        x, y = self.split(q)\n",
            "        \n",
            "        C, Cx = jvp(lambda x: self.bddc(x, y, self.params), (x,), (Xi1[:n],))\n",
            "        Cy = jvp(lambda y: self.bddc(x, y, self.params), (y,), (Xi1[n:],))[1]\n",
            "        iC = jla.inv(C)\n",
            "        yiCx = jnp.sum(y*(iC@x))\n",
            "        return jnp.concatenate(\n",
            "            [iC.T@Cx.T@Xi2[:n] - iC.T@y*(\n",
            "                jnp.sum(x*(iC.T@Cx.T@Xi2[:n])) - jnp.sum(Xi1[:n]*Xi2[:n])) / yiCx,\n",
            "             iC@Cy@Xi2[n:] - iC@x*(jnp.sum(y*(iC@Cy@Xi2[n:])) - jnp.sum(Xi1[n:]*Xi2[n:])) / yiCx\n",
            "             ])\n",
            "\n",
            "    def Gamma(self, q, Xi, Eta):\n",
            "        x, y = self.split(q)\n",
            "        n = self.n\n",
            "        iLbd = self.iLambda\n",
            "        Lbd = self.Lambda\n",
            "        \n",
            "        xmy = (1-jnp.sum(x*(Lbd@y)))\n",
            "        xILbdy = (1-jnp.sum(q[:n]*(iLbd@q[n:])))\n",
            "\n",
            "        return jnp.block(\n",
            "            [1/(xmy)*jnp.sum((Lbd@y)*Eta[:n])*Xi[:n]\n",
            "             + 1/(xmy)*jnp.sum((Lbd@y)*Xi[:n])*Eta[:n]\n",
            "             - (iLbd@q[n:] - q[:n])*jnp.sum(Xi[:n]*Eta[:n])/xILbdy,\n",
            "             1/(xmy)*jnp.sum((Lbd@x)*Eta[n:])*Xi[n:]\n",
            "             + 1/(xmy)*jnp.sum((Lbd@x)*Xi[n:])*Eta[n:]\n",
            "             - (iLbd@q[:n] - q[n:])*jnp.sum(Xi[n:]*Eta[n:])/xILbdy])\n",
            "\n"
          ]
        }
      ]
    },
    {
      "cell_type": "markdown",
      "source": [
        "## Check metric compatibility\n",
        "Check projection and Gamma are metric compatible. Note Xi is a tangent vector, so $q[:n]^TXi[:n]=0, q[n:]^TXi[n:]=0$.\n",
        "\n",
        "* For the vector field, we use $z\\mapsto \\Pi(z)\\eta$"
      ],
      "metadata": {
        "id": "-84AimdFNPJj"
      }
    },
    {
      "cell_type": "code",
      "source": [
        "key, sk = random.split(key)    \n",
        "q = Ant.randQpoint(sk)\n",
        "\n",
        "key, sk = random.split(key)    \n",
        "Xi = Ant.randvec(sk, q)\n",
        "\n",
        "key, sk = random.split(key)    \n",
        "Omg = random.normal(sk, (2*n,))\n",
        "\n",
        "print(\"CHECK TANGENT\")\n",
        "print(jnp.sum(q[:n]*Xi[:n]), jnp.sum(q[n:]*Xi[n:]))\n",
        "\n",
        "print(\"CHECK PROJECTION\")\n",
        "print(KMS.proj(q, Omg) - Ant.proj(q, Omg))\n",
        "print(Ant.kmc(q, Ant.proj(q, Omg), Xi)\n",
        "      - Ant.kmc(q, Omg, Xi))    \n",
        "\n",
        "\n",
        "key, sk = random.split(key)    \n",
        "Eta = Ant.randvec(sk, q)\n",
        "\n",
        "\n",
        "# check KMS is same as Ant\n",
        "print(\"KMS = Ant\")\n",
        "display(KMS.Gamma(q, Xi, Eta) - Ant.Gamma(q, Xi, Eta))\n",
        "print(\"CHECK CONNECTION IS METRIC COMPATIBLE\")\n",
        "# Metric compatible\n",
        "display(jvp(lambda z: Ant.kmc(z, Ant.proj(z, Eta), Ant.proj(z, Eta)), (q,), (Xi,))[1])\n",
        "display(2*Ant.kmc(q, Eta, Ant.Gamma(q, Xi, Eta)))\n"
      ],
      "metadata": {
        "colab": {
          "base_uri": "https://localhost:8080/",
          "height": 275
        },
        "id": "VXjkjy6PMJhd",
        "outputId": "fc449109-6b86-4c5f-f2de-4df6d3264cc8"
      },
      "execution_count": 10,
      "outputs": [
        {
          "output_type": "stream",
          "name": "stdout",
          "text": [
            "CHECK TANGENT\n",
            "1.1102230246251565e-16 2.7755575615628914e-16\n",
            "CHECK PROJECTION\n",
            "[-7.10542736e-15 -1.77635684e-15 -5.55111512e-15  3.19744231e-14\n",
            " -1.55431223e-15 -1.11022302e-16  5.55111512e-17 -1.11022302e-16\n",
            " -2.22044605e-16  0.00000000e+00]\n",
            "0.0\n",
            "KMS = Ant\n"
          ]
        },
        {
          "output_type": "display_data",
          "data": {
            "text/plain": [
              "Array([-2.57571742e-14, -8.21565038e-15, -2.13162821e-14,  1.35003120e-13,\n",
              "       -7.10542736e-15, -4.32986980e-15,  2.10942375e-15, -4.88498131e-15,\n",
              "       -8.43769499e-15,  1.83186799e-15], dtype=float64)"
            ]
          },
          "metadata": {}
        },
        {
          "output_type": "stream",
          "name": "stdout",
          "text": [
            "CHECK CONNECTION IS METRIC COMPATIBLE\n"
          ]
        },
        {
          "output_type": "display_data",
          "data": {
            "text/plain": [
              "Array(-0.52433215, dtype=float64)"
            ]
          },
          "metadata": {}
        },
        {
          "output_type": "display_data",
          "data": {
            "text/plain": [
              "Array(-0.52433215, dtype=float64)"
            ]
          },
          "metadata": {}
        }
      ]
    },
    {
      "cell_type": "markdown",
      "source": [
        "## Check curvature\n",
        "For Curvature: Generate 4 vectors"
      ],
      "metadata": {
        "id": "ejG_Hju4RkFo"
      }
    },
    {
      "cell_type": "code",
      "source": [
        "key, sk = random.split(key)    \n",
        "Xi1 = Ant.randvec(sk, q)\n",
        "\n",
        "key, sk = random.split(key)   \n",
        "Xi2 = Ant.randvec(sk, q)\n",
        "\n",
        "key, sk = random.split(key)   \n",
        "Xi3 = Ant.randvec(sk, q)\n",
        "\n",
        "key, sk = random.split(key)   \n",
        "Xi4 = Ant.randvec(sk, q)\n",
        "print(\"ANT and KMS are compatible\")\n",
        "print(Ant.Curv4(q, Xi1, Xi2, Xi3, Xi4) - KMS.Curv4(q, Xi1, Xi2, Xi3, Xi4))"
      ],
      "metadata": {
        "colab": {
          "base_uri": "https://localhost:8080/"
        },
        "id": "clRNWTJ8Rw6b",
        "outputId": "9cb955a2-1254-4b37-afec-3f9692fde4f9"
      },
      "execution_count": 11,
      "outputs": [
        {
          "output_type": "stream",
          "name": "stdout",
          "text": [
            "ANT and KMS are compatible\n",
            "-8.881784197001252e-14\n"
          ]
        }
      ]
    },
    {
      "cell_type": "markdown",
      "source": [
        "### BIANCHI \n",
        "The [Bianchi identities](https://en.wikipedia.org/wiki/Riemann_curvature_tensor#Symmetries_and_identities)"
      ],
      "metadata": {
        "id": "5ICSF2BHUocC"
      }
    },
    {
      "cell_type": "code",
      "source": [
        "print(\"FIRST BIANCHI\")\n",
        "print(Ant.Curv4(q, Xi1, Xi2, Xi3, Xi4))\n",
        "print(Ant.Curv4(q, Xi2, Xi1, Xi3, Xi4))\n",
        "print(Ant.Curv4(q, Xi1, Xi2, Xi4, Xi3))\n",
        "print(Ant.Curv4(q, Xi3, Xi4, Xi1, Xi2))\n",
        "\n",
        "def NablaR(q, Xi1, Xi2, Xi3, xi4):\n",
        "    def xifunc(q, Xi):\n",
        "        return Ant.proj(q, Xi)\n",
        "\n",
        "    def cov(q, Xi1, Xi2):\n",
        "        return jvp(lambda x: Ant.proj(x, Xi2), (q,), (Xi1,))[1] +\\\n",
        "            Ant.Gamma(q, Xi1, Xi2)\n",
        "\n",
        "    Tot = jvp(lambda q: Ant.Curvature(q,\n",
        "                                      xifunc(q, Xi2),\n",
        "                                      xifunc(q, Xi3),\n",
        "                                      xifunc(q, Xi4)),\n",
        "              (q,), (Xi1,))[1] \\\n",
        "        + Ant.Gamma(q, Xi1, Ant.Curvature(q, Xi2, Xi3, Xi4))\n",
        "    R12 = Ant.Curvature(q, cov(q, Xi1, Xi2), Xi3, Xi4)\n",
        "    R13 = Ant.Curvature(q, Xi2, cov(q, Xi1, Xi3), Xi4)\n",
        "    R14 = Ant.Curvature(q, Xi2, Xi3, cov(q, Xi1, Xi4))\n",
        "    return Tot - R12 - R13 - R14\n",
        "print(\"SECOND BIANCHI\")\n",
        "f1 = NablaR(q, Xi1, Xi2, Xi3, Xi4)\n",
        "f2 = NablaR(q, Xi2, Xi3, Xi1, Xi4)\n",
        "f3 = NablaR(q, Xi3, Xi1, Xi2, Xi4)\n",
        "print(f1 + f2 + f3)\n",
        "\n"
      ],
      "metadata": {
        "colab": {
          "base_uri": "https://localhost:8080/"
        },
        "id": "oGxJgYS7RfdE",
        "outputId": "d140de58-4ad4-431d-9cfd-659c8acb1d10"
      },
      "execution_count": 12,
      "outputs": [
        {
          "output_type": "stream",
          "name": "stdout",
          "text": [
            "FIRST BIANCHI\n",
            "-28.821347577031478\n",
            "28.821347577031478\n",
            "28.821347577031382\n",
            "-28.82134757703144\n",
            "SECOND BIANCHI\n",
            "[ 1.27329258e-11  4.09272616e-12  1.09139364e-11 -1.52795110e-10\n",
            "  1.13686838e-12 -2.54658516e-11  7.27595761e-12 -1.81898940e-11\n",
            " -7.27595761e-12  1.09139364e-11]\n"
          ]
        }
      ]
    },
    {
      "cell_type": "markdown",
      "source": [
        "### The Cross curvature formula:"
      ],
      "metadata": {
        "id": "dSipezd_UyWN"
      }
    },
    {
      "cell_type": "code",
      "source": [
        "print(inspect.getsource(Ant.CrossSec))\n",
        "s1 = Ant.Two(q, Xi1, Xi2)\n",
        "s2 = Ant.Gamma(q, Xi1, Xi2)\n",
        "s3 = KMA.Gamma(q, Xi1, Xi2)\n",
        "print(\"GAUSS CODAZZI for Cross curvature\")\n",
        "print(s1 + s2 - s3)\n",
        "\n",
        "print(\"verifying the simplified formula\")\n",
        "Xiz = jnp.block([Xi1[:n], jnp.zeros(n)])\n",
        "bXiz = jnp.block([jnp.zeros(n), Xi1[n:]])\n",
        "s1 = Ant.Curv4(q, Xiz, bXiz, bXiz, Xiz)\n",
        "s2 = Ant.CrossSec(q, Xi1[:n], Xi1[n:])\n",
        "print(s1 - s2)\n"
      ],
      "metadata": {
        "colab": {
          "base_uri": "https://localhost:8080/"
        },
        "id": "a1XLw5LRU_2F",
        "outputId": "09f2c024-62b7-4a99-9335-10f5b89affad"
      },
      "execution_count": 13,
      "outputs": [
        {
          "output_type": "stream",
          "name": "stdout",
          "text": [
            "    def CrossSec(self, q, xi, bxi):\n",
            "        x, y = self.split(q)\n",
            "        n = self.n\n",
            "        iLbd = self.iLambda\n",
            "        Lbd = self.Lambda\n",
            "        \n",
            "        x, y = q[:n], q[n:]        \n",
            "        xmy = (1-jnp.sum(x*(Lbd@y)))\n",
            "        xILbdy = (1-jnp.sum(x*(iLbd@y)))\n",
            "        zr = jnp.zeros(n)\n",
            "\n",
            "        return - 8*jnp.square(self.kmc(q, jnp.block([xi, zr]), jnp.block([zr, bxi]))) \\\n",
            "            + 1/(4*xmy*xILbdy)*jnp.sum(xi*xi)*jnp.sum(bxi*bxi)\n",
            "\n",
            "GAUSS CODAZZI for Cross curvature\n",
            "[ 3.60822483e-15 -4.44089210e-16  4.10782519e-15  1.01569415e-14\n",
            "  2.66453526e-15 -4.44089210e-16  2.22044605e-16 -2.27595720e-15\n",
            " -2.22044605e-15  8.88178420e-16]\n",
            "verifying the simplified formula\n",
            "5.062616992290714e-14\n"
          ]
        }
      ]
    },
    {
      "cell_type": "markdown",
      "source": [
        "$\\newcommand{\\bomg}{\\bar{\\omega}}$\n",
        "# THE DIVERGENCE GRAPH and Kim-McCann metric\n",
        "This is not on the paper, but we illustrate the method based on the references [1] and [2]. We thank the authors [2] for explaining their formulas to us.\n",
        "\n",
        "\n",
        "Consider the function \n",
        "$$c(x, y) = \\phi(F(x)) - \\phi(y) -\\frac{1}{\\beta}\\log(1+\\beta grad_{\\phi}(y). (F(x)-y))\n",
        "$$\n",
        "which vanishes at $y=F(x)$ and has the form of what is called the $L^{(\\beta)}$-divergence [1] This is so that we do not have zero curvature.\n",
        "* We choose $F$ to be of the following form (entry-wise) to get non zero higher derivatives.\n",
        "$$F(x) =\\frac{kx}{a+\\sqrt{b+x^2}}$$\n",
        "\n",
        "We consider a family of projection\n",
        "$$\\Pi_{\\alpha}(\\omega, \\bomg) = \\frac{1}{2}((1+\\alpha)\\omega + (1-\\alpha)F_x^{-1}\\bomg, (1+\\alpha)F_x\\omega + (1-\\alpha)\\bomg)\n",
        "$$\n",
        "\n",
        "which generate a family of connections:\n",
        "$$\\Gamma_{\\alpha}(x, (\\xi, F_x\\xi), (\\eta, F_x\\eta) )=\n",
        "\\frac{1}{2}((1+\\alpha)K^x + (1-\\alpha)y_x^{-1}K^y+ (1-\\alpha)y_x^{-1}y_{xx}(x;\\xi, \\eta),\\\\\n",
        "(1+\\alpha)y_xK^x + (1-\\alpha)K^y -(1-\\alpha)y_{xx}(x;\\xi, \\eta)).\n",
        "$$\n",
        "With $(K^x, K^y)$ is the ambient connection on $M\\times \\bar{M}$.\n",
        "\n",
        "When $\\alpha=0$, we have the Levi-Civita connection [2], which can be derived by the method in our paper. When $\\alpha \\neq 0$, the connection is not metric compatible. \n",
        "\n",
        "We demonstrate numerically the affine-Gauss Codazzi equation could be used to compute the curvature, compatible with the curvature formula given by our method.\n",
        "\n",
        "\n",
        "[1] TK.L. Wong, Logarithmic divergences from optimal transport and rÃľnyi geometry., Information Geometry 1 (2018), 39–78.\n",
        "\n",
        "[2] F. Léger and F.X. Vialard, A geometric Laplace method, https://arxiv.org/abs/2212.04376, 2022."
      ],
      "metadata": {
        "id": "tqS8SYSbViDk"
      }
    },
    {
      "cell_type": "code",
      "source": [
        "n = 3\n",
        "\n",
        "key = random.PRNGKey(0)    \n",
        "key, sk = random.split(key)\n",
        "\n",
        "def F(x):\n",
        "    a, b, k = (.2, .3, .5)        \n",
        "    return k*x/(a+jnp.sqrt(b+x*x))\n",
        "\n",
        "def c(x, y, beta):\n",
        "    def KL(p):\n",
        "        return 1/beta*jnp.log(beta*jnp.sum(p*p)+1)\n",
        "\n",
        "    def gradKL(p):\n",
        "        return 2*p/(beta*jnp.sum(p*p)+1)\n",
        "    \n",
        "    return KL(F(x)) - KL(y) - 1/beta*jnp.log(\n",
        "        1+beta*jnp.sum(gradKL(y)*(F(x)-y)))\n",
        "\n",
        "beta = .1\n",
        "KMAD = KMC(n, c, beta)\n",
        "KMD = KMCDivergence(KMAD, F)\n",
        "\n",
        "key, sk = random.split(key)    \n",
        "q = KMD.randQpoint(sk)\n"
      ],
      "metadata": {
        "id": "wuQ9WiYDXIbr"
      },
      "execution_count": 14,
      "outputs": []
    },
    {
      "cell_type": "markdown",
      "source": [
        "Test projection, metric compatibility, c"
      ],
      "metadata": {
        "id": "8HyTWsq4Z-wu"
      }
    },
    {
      "cell_type": "code",
      "source": [
        "key, sk = random.split(key)        \n",
        "Xi = KMD.randvec(sk, q)\n",
        "\n",
        "# test projection\n",
        "key, sk = random.split(key)\n",
        "Omg = random.normal(sk, (2*n,))\n",
        "\n",
        "key, sk = random.split(key)\n",
        "# Omg1 = random.normal(sk, (2*n,))\n",
        "\n",
        "JF = jacfwd(F)\n",
        "\n",
        "pOmg = KMD.proj(q, Omg, .3)\n",
        "print(pOmg[n:] - JF(q[:n])@pOmg[:n])\n",
        "\n",
        "pOmg = KMD.proj(q, Omg, 0.)\n",
        "print(\n",
        "    KMD.kmc(q, KMD.proj(q, Omg, 0.), Xi)\n",
        "    - KMD.kmc(q, KMD.proj(q, Omg, 0.), Xi))\n",
        "\n",
        "# test metric compatibility and connectivity\n",
        "key, sk = random.split(key)        \n",
        "Xi1 = KMD.randvec(sk, q)\n",
        "\n",
        "key, sk = random.split(key)        \n",
        "Xi2 = KMD.randvec(sk, q)\n",
        "\n",
        "def checkTan(q, Omg):\n",
        "    return Omg[n:] - JF(q[:n])@Omg[:n]\n",
        "\n",
        "al1 = -2\n",
        "\n",
        "print(\"check covariant derivative is a vector field\")\n",
        "print(\"Use PI_{-2} for vector field\")\n",
        "covxi2 = jvp(lambda q: KMD.proj(q, Xi2, al1), (q,), (Xi1,))[1] +\\\n",
        "    KMD.Gamma(q, Xi1, Xi2, 0)\n",
        "\n",
        "print(checkTan(q, covxi2))\n",
        "\n",
        "s1 = jvp(\n",
        "    lambda q: KMD.kmc(q, KMD.proj(q, Xi2, al1),\n",
        "                      KMD.proj(q, Xi2, al1)), (q,), (Xi1,))[1]\n",
        "\n",
        "s2 = 2*KMD.kmc(q, Xi2, covxi2)\n",
        "print(\"check metric compatible of Levi-Civita connection\")\n",
        "print(s1 - s2)\n"
      ],
      "metadata": {
        "colab": {
          "base_uri": "https://localhost:8080/"
        },
        "id": "FAK3_GfuXa9Z",
        "outputId": "b04c3810-908b-465e-ec3c-7769f9b588f1"
      },
      "execution_count": 15,
      "outputs": [
        {
          "output_type": "stream",
          "name": "stdout",
          "text": [
            "[0.00000000e+00 2.77555756e-17 5.55111512e-17]\n",
            "0.0\n",
            "check covariant derivative is a vector field\n",
            "Use PI_{-2} for vector field\n",
            "[-1.11022302e-16  1.73472348e-18  4.16333634e-17]\n",
            "check metric compatible of Levi-Civita connection\n",
            "-2.220446049250313e-16\n"
          ]
        }
      ]
    },
    {
      "cell_type": "code",
      "source": [
        "\n",
        "# curvature by christoffel function.\n",
        "key, sk = random.split(key)    \n",
        "Xi3 = KMD.randvec(sk, q)\n",
        "\n",
        "key, sk = random.split(key)   \n",
        "Xi4 = KMD.randvec(sk, q)\n",
        "\n",
        "print(\"CHECK THE CURVATURE is tangent to the manifold\")\n",
        "print(checkTan(q, KMD.Curvature(q, Xi1, Xi2, Xi3, al=2.)))\n",
        "\n",
        "print(\"CHECK THE BIANCHI identities for the Levi-Civita connection\")\n",
        "# bianchi only for al = 0\n",
        "print(\"FIRST BIANCHI\")\n",
        "print(KMD.Curv4(q, Xi1, Xi2, Xi3, Xi4, 0.))\n",
        "print(KMD.Curv4(q, Xi2, Xi1, Xi3, Xi4, 0.))\n",
        "print(KMD.Curv4(q, Xi1, Xi2, Xi4, Xi3, 0.))\n",
        "print(KMD.Curv4(q, Xi3, Xi4, Xi1, Xi2, 0.))\n",
        "\n",
        "# second Bianchi identity\n",
        "def nablaR(KMD, q, Xi1, Xi2, Xi3, Xi4, al):\n",
        "    def xifunc(q, Xi):\n",
        "        return KMD.proj(q, Xi)\n",
        "\n",
        "    # extend Xi1, Xi2 to vector fields by projection then take\n",
        "    # covariant derivatives.\n",
        "    def cov(q, Xi1, Xi2):\n",
        "        return jvp(lambda x: KMD.proj(x, Xi2, al), (q,), (Xi1,))[1] \\\n",
        "            + KMD.Gamma(q, Xi1, Xi2, al)\n",
        "\n",
        "    Tot = jvp(lambda x: KMD.Curvature(\n",
        "        x,\n",
        "        KMD.proj(x, Xi2, al),\n",
        "        KMD.proj(x, Xi3, al),\n",
        "        KMD.proj(x, Xi4, al), al),\n",
        "              (q,), (Xi1,))[1] \\\n",
        "        + KMD.Gamma(q, Xi1, KMD.Curvature(q, Xi2, Xi3, Xi4, al), al)\n",
        "    R12 = KMD.Curvature(q, cov(q, Xi1, Xi2), Xi3, Xi4, al)\n",
        "    R13 = KMD.Curvature(q, Xi2, cov(q, Xi1, Xi3), Xi4, al)\n",
        "    R14 = KMD.Curvature(q, Xi2, Xi3, cov(q, Xi1, Xi4), al)\n",
        "    return Tot - R12 - R13 - R14\n",
        "print(\"SECOND BIANCHI\")    \n",
        "f1 = nablaR(KMD, q, Xi1, Xi2, Xi3, Xi4, 0.)\n",
        "f2 = nablaR(KMD, q, Xi2, Xi3, Xi1, Xi4, 0.)\n",
        "f3 = nablaR(KMD, q, Xi3, Xi1, Xi2, Xi4, 0.)\n",
        "\n",
        "print(f1 + f2 + f3)\n",
        "\n",
        "# Curvature and affine Gauss Codazzi\n",
        "al = .2\n",
        "Form4 = KMD.projT(q, KMAD.gkmc(q, Xi4), al)\n",
        "\n",
        "print(KMD.proj(q, KMD.Two(q, Xi1, Xi2, al), al))\n",
        "print(KMD.projT(q, KMD.conjTwo(q, Xi1, Form4, al), al))\n",
        "\n",
        "f1 = KMAD.Curv4(q, Xi1, Xi2, Xi3, Xi4)\n",
        "f2 = jnp.sum(KMD.Curv4(q, Xi1, Xi2, Xi3, Xi4, al)) \\\n",
        "    + jnp.sum(KMD.Two(q, Xi1, Xi3, al)*KMD.conjTwo(q, Xi2, Form4, al)) \\\n",
        "    - jnp.sum(KMD.Two(q, Xi2, Xi3, al)*KMD.conjTwo(q, Xi1, Form4, al))\n",
        "\n",
        "print(\"CURVATURE satisfies the affine Gauss-Codazzi equation\")\n",
        "print(f1 - f2)\n"
      ],
      "metadata": {
        "colab": {
          "base_uri": "https://localhost:8080/"
        },
        "id": "BNwWjie5flZB",
        "outputId": "b006c183-96e1-4f2e-db0a-e47d30941e95"
      },
      "execution_count": 16,
      "outputs": [
        {
          "output_type": "stream",
          "name": "stdout",
          "text": [
            "CHECK THE CURVATURE is tangent to the manifold\n",
            "[-2.86229374e-16  4.85722573e-17  4.68375339e-17]\n",
            "CHECK THE BIANCHI identities for the Levi-Civita connection\n",
            "FIRST BIANCHI\n",
            "-0.008386961057168891\n",
            "0.008386961057168891\n",
            "0.008386961057168983\n",
            "-0.008386961057168962\n",
            "SECOND BIANCHI\n",
            "[ 6.89032165e-15  7.80625564e-18  2.51534904e-16 -1.20650018e-15\n",
            "  4.33680869e-18  1.17961196e-16]\n",
            "[ 2.28983499e-16  8.67361738e-19  1.21430643e-17  3.38271078e-17\n",
            " -4.33680869e-19  2.16840434e-18]\n",
            "[-1.51788304e-18  0.00000000e+00 -1.08420217e-18 -6.93889390e-18\n",
            "  0.00000000e+00 -2.60208521e-18]\n",
            "CURVATURE satisfies the affine Gauss-Codazzi equation\n",
            "5.204170427930421e-17\n"
          ]
        }
      ]
    }
  ]
}