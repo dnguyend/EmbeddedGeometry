{
  "nbformat": 4,
  "nbformat_minor": 0,
  "metadata": {
    "colab": {
      "provenance": [],
      "authorship_tag": "ABX9TyPRzfYEL+QjOGgBXmd8Zp2Y",
      "include_colab_link": true
    },
    "kernelspec": {
      "name": "python3",
      "display_name": "Python 3"
    },
    "language_info": {
      "name": "python"
    }
  },
  "cells": [
    {
      "cell_type": "markdown",
      "metadata": {
        "id": "view-in-github",
        "colab_type": "text"
      },
      "source": [
        "<a href=\"https://colab.research.google.com/github/dnguyend/EmbeddedGeometry/blob/main/colab/SemidefiniteOptimalTransportAntennaCost.ipynb\" target=\"_parent\"><img src=\"https://colab.research.google.com/assets/colab-badge.svg\" alt=\"Open In Colab\"/></a>"
      ]
    },
    {
      "cell_type": "markdown",
      "source": [
        "$\\newcommand{\\R}{\\mathbb{R}}$\n",
        "$\\newcommand{\\Sd}[2]{\\mathrm{S}^{+}_{#1,#2}}$\n",
        "$\\newcommand{\\bdomg}{\\mathring{\\omega}}$\n",
        "$\\newcommand{\\bdD}{\\mathring{D}}$\n",
        "$\\newcommand{\\bdxi}{\\mathring{\\xi}}$\n",
        "$\\newcommand{\\bomg}{\\bar{\\omega}}$\n",
        "$\\newcommand{\\bxi}{\\bar{\\xi}}$\n",
        "$\\newcommand{\\brD}{\\bar{D}}$\n",
        "# The geometry of optimal transport on the manifold of semidefinite matrices with the  reflector antenna cost function\n",
        "\n",
        "* The manifold $\\Sd{n}{k}$ consists of matrices of the form $xx^T$ where $x\\in \\R^{n\\times k}_*$, where $\\R^{n\\times k}_*$ denotes the manifold of matrices in $\\R^{n\\times k}$ of full rank $k$.\n",
        "\n",
        "Here, for a real parameter $\\alpha > 0$, we are concerned with the cost\n",
        "$$c(x, y) = -\\log(\\alpha + Tr(\\Sigma))\n",
        "$$\n",
        "where $xx^T, yy^T$ represents two points on $\\Sd{n}{k}$, and $x^Ty = \\Sigma U$ is the polar decomposition, assuming $x^Ty$ is invertible.\n",
        "* We an element in $\\Sd{n}{k}$ corresponds to an elment of $\\R^{n\\times k}$ up to a right orthogonal matrix factor, $x$ and $xU$ defines the same element in $\\Sd{n}{k}$.\n",
        "\n",
        "\n",
        "We show in the paper that the Kim-McCann metric of this cost has nonnegative cross curvature. This workbook provides numerical verifications of the formulas in the paper.\n"
      ],
      "metadata": {
        "id": "qpe7ON1I9uo-"
      }
    },
    {
      "cell_type": "markdown",
      "source": [
        "## Four manifolds and two transports\n",
        "\n",
        "Beside the fixed rank symmetric positive semidefinite matrix manifold, we also consider the Grassmann manifold.\n",
        "\n",
        "We have two other related manifolds, with semiRiemannian metrics that project to the above two manifolds (equipped with Kim-McCann metric), for a total of four four manifolds:\n",
        " $\\R^{n\\times k}_*$, $\\Sd{n}{k}$, Stiefel and Grassmann\n",
        "\n",
        "* <b>The following are pairs of manifold/submanifolds, for which we have the Gauss-Codazzi relation  </b>\n",
        "  * Stiefel is a submanifold of\n",
        "$\\R^{n\\times k}_*$, with $x^Tx = I$\n",
        "  * Grassmann is a submanifold of $\\Sd{n}{k}$\n",
        "* <b> On the other hand, the following are submersions </b>\n",
        "  * $\\Sd{n}{k}$ is an submersion image of $\\R^{n\\times k}_*$, * Grassmann is a submersion image of Stiefel, for which we have the O'Neill formula.\n",
        "* We verify these relationships numerically in the workbook, below.\n",
        "\n",
        "* Set up: $q$, Omega, Xi are matrices of in $\\R^{2n\\times k}$.\n",
        "\n",
        "* The first $n$ rows of $q$ is $x$, the last is $y$ in $c(x, y)$.\n",
        "The tangent/ambient vectors have similar formats\n",
        "$$q = (x, y),\\\\\n",
        "Omega = (\\omega, \\bomg),\\\\\n",
        "Xi = (\\xi, \\bxi),\\\\\n",
        "$$\n",
        "Where $Omega$ represents $\\bdomg =\\omega, \\bomg$ in the paper, etc"
      ],
      "metadata": {
        "id": "XtoH1ybDZiPN"
      }
    },
    {
      "cell_type": "markdown",
      "source": [
        "First, we clone the library. The library code is in the EmveddedGeometry/src subfolder."
      ],
      "metadata": {
        "id": "VLfSqQuGC13X"
      }
    },
    {
      "cell_type": "code",
      "source": [
        "!git clone https://github.com/dnguyend/EmbeddedGeometry.git"
      ],
      "metadata": {
        "colab": {
          "base_uri": "https://localhost:8080/"
        },
        "id": "4vldRpn2gKQl",
        "outputId": "9daa525f-32a2-4a07-e691-ab97eb2e67f1"
      },
      "execution_count": 1,
      "outputs": [
        {
          "output_type": "stream",
          "name": "stdout",
          "text": [
            "Cloning into 'EmbeddedGeometry'...\n",
            "remote: Enumerating objects: 28, done.\u001b[K\n",
            "remote: Counting objects: 100% (28/28), done.\u001b[K\n",
            "remote: Compressing objects: 100% (23/23), done.\u001b[K\n",
            "remote: Total 28 (delta 8), reused 10 (delta 2), pack-reused 0\u001b[K\n",
            "Unpacking objects: 100% (28/28), 145.62 KiB | 548.00 KiB/s, done.\n"
          ]
        }
      ]
    },
    {
      "cell_type": "code",
      "execution_count": 2,
      "metadata": {
        "id": "oAF_Dmqj9l62"
      },
      "outputs": [],
      "source": [
        "import jax.numpy as jnp\n",
        "import jax.numpy.linalg as jla\n",
        "from jax import jvp, jacfwd, jacrev, random, grad\n",
        "import sys\n",
        "import inspect"
      ]
    },
    {
      "cell_type": "code",
      "source": [
        "from EmbeddedGeometry.src.semidefinite import (\n",
        "    Semidefinite, grand, asym, sym2, Lyapunov, vcat, splitzero)\n"
      ],
      "metadata": {
        "id": "v6tXpxIUIcaR"
      },
      "execution_count": 3,
      "outputs": []
    },
    {
      "cell_type": "markdown",
      "source": [
        "## Create the main object, SD of class Semidefinite. It has all the main methods implemented.\n",
        "For example, the semiRiemannian pairing is invoked by SD.inner, SD.GammaAmb is the Christoffel function  on an opensubset of $(\\R_*^{n\\times k} )^2$, SD.GammaH is the horizontal Christoffel function, corresponding to $(\\Sd{n}{k})^2$, SD.GammaStief is the Christoffel function on the Stiefel manifold and SD.GammaGrass is the Grassmann manifold, operating on horizontal vectors on of an opensubset of two copies of the Grassmann manifold.\n",
        "\n",
        "Run a quick test, showing DG and Xg implement derivatives of g. As mentioned, jvp is the Jax function for directional derivative."
      ],
      "metadata": {
        "id": "nlKAQdEVYtjG"
      }
    },
    {
      "cell_type": "code",
      "source": [
        "key = random.PRNGKey(0)\n",
        "n = 5\n",
        "k = 3\n",
        "al = 1\n",
        "\n",
        "SD = Semidefinite(al, n, k)\n",
        "\n",
        "q, key = SD.grandKMPoint(key)\n",
        "\n",
        "omg, key = grand(key, n, k)\n",
        "omg1, key = grand(key, n, k)\n",
        "\n",
        "Omg1, key = grand(key, 2*n, k)\n",
        "Omg2, key = grand(key, 2*n, k)\n",
        "Omg3, key = grand(key, 2*n, k)\n",
        "Omg4, key = grand(key, 2*n, k)\n",
        "\n",
        "print(\"CHECK Dg is derivative of g\")\n",
        "print(jvp(lambda q: SD.g(q, Omg2), (q,), (Omg1,))[1] - SD.Dg(q, Omg1, Omg2))\n",
        "\n",
        "print(\"CHECK Xg is the index raising of Dg\")\n",
        "print(jnp.sum(SD.Dg(q, Omg1, Omg2)*Omg3) - jnp.sum(SD.Xg(q, Omg2, Omg3)*Omg1))\n"
      ],
      "metadata": {
        "colab": {
          "base_uri": "https://localhost:8080/"
        },
        "id": "nBZzNtYYYXEU",
        "outputId": "a3471c4b-a25c-477f-cc09-78e9825d7c9b"
      },
      "execution_count": 4,
      "outputs": [
        {
          "output_type": "stream",
          "name": "stderr",
          "text": [
            "WARNING:jax._src.xla_bridge:No GPU/TPU found, falling back to CPU. (Set TF_CPP_MIN_LOG_LEVEL=0 and rerun for more info.)\n"
          ]
        },
        {
          "output_type": "stream",
          "name": "stdout",
          "text": [
            "CHECK Dg is derivative of g\n",
            "[[ 3.81639165e-17 -3.54534110e-17  5.55111512e-17]\n",
            " [-1.73472348e-16  1.73472348e-17 -5.55111512e-17]\n",
            " [-2.08166817e-16  0.00000000e+00  6.59194921e-17]\n",
            " [ 2.77555756e-17 -1.04083409e-17  6.93889390e-18]\n",
            " [ 5.55111512e-17 -2.34187669e-17  1.38777878e-17]\n",
            " [-8.32667268e-17  8.67361738e-18  8.67361738e-18]\n",
            " [ 1.31838984e-16  1.04083409e-17  1.38777878e-17]\n",
            " [ 3.46944695e-17  4.16333634e-17 -8.32667268e-17]\n",
            " [-1.52655666e-16 -2.08166817e-17 -2.77555756e-17]\n",
            " [ 6.93889390e-17 -4.16333634e-17 -6.93889390e-18]]\n",
            "CHECK Xg is the index raising of Dg\n",
            "1.3877787807814457e-17\n"
          ]
        }
      ]
    },
    {
      "cell_type": "markdown",
      "source": [
        "## CHECK the connection is metric compatible.\n",
        "\n",
        "This means, for the ambient in $(\\R^{n\\times k})^2$:\n",
        "$$\\bdD_{\\bdomg_1}  \\langle \\bomg_2, \\bomg_2\\rangle_*\n",
        "= 2 \\langle \\bomg_2, \\Gamma(\\bdomg_1, \\bomg_2)\\rangle_* $$\n",
        "and $\\Gamma$ is torsion free.\n",
        "\n",
        "Here, we are looking at the ambient metric $g$ defined in the paper, on $(\\R_*^{n\\times k})^2$"
      ],
      "metadata": {
        "id": "li08GR3yY4Zy"
      }
    },
    {
      "cell_type": "code",
      "source": [
        "print(2*SD.inner(q, Omg2, SD.GammaAmb(q, Omg1, Omg2)))\n",
        "print(jvp(lambda q: SD.inner(q, Omg2, Omg2), (q,), (Omg1,))[1])\n"
      ],
      "metadata": {
        "colab": {
          "base_uri": "https://localhost:8080/"
        },
        "id": "EiOOUTdtZbgy",
        "outputId": "3fbbc743-497f-4e36-f512-22be9f154dc4"
      },
      "execution_count": 5,
      "outputs": [
        {
          "output_type": "stream",
          "name": "stdout",
          "text": [
            "-0.22099217161268414\n",
            "-0.22099217161268375\n"
          ]
        }
      ]
    },
    {
      "cell_type": "markdown",
      "source": [
        "Check the Bianchi identities for its curvature"
      ],
      "metadata": {
        "id": "DFyFrNB7e8-_"
      }
    },
    {
      "cell_type": "code",
      "source": [
        "print(\"CHECK FIRST BIANCHI Identities\")\n",
        "print(SD.CurvAmb4(q, Omg1, Omg2, Omg3, Omg4))\n",
        "print(SD.CurvAmb4(q, Omg2, Omg1, Omg3, Omg4))\n",
        "print(SD.CurvAmb4(q, Omg1, Omg2, Omg4, Omg3))\n",
        "print(SD.CurvAmb4(q, Omg3, Omg4, Omg1, Omg2))\n",
        "\n",
        "def nablaR(q, xi1, xi2, xi3, xi4):\n",
        "    # extend Xi1, Xi2 to vector fields by projection then take\n",
        "    # covariant derivatives.\n",
        "    Tot = jvp(lambda x: SD.CurvAmb(x, xi2, xi3, xi4),\n",
        "              (q,), (xi1,))[1] \\\n",
        "        + SD.GammaAmb(q, xi1, SD.CurvAmb(q, xi2, xi3, xi4))\n",
        "    R12 = SD.CurvAmb(q, SD.GammaAmb(q, xi1, xi2), xi3, xi4)\n",
        "    R13 = SD.CurvAmb(q, xi2, SD.GammaAmb(q, xi1, xi3), xi4)\n",
        "    R14 = SD.CurvAmb(q, xi2, xi3, SD.GammaAmb(q, xi1, xi4))\n",
        "    return Tot - R12 - R13 - R14\n",
        "\n",
        "f1 = nablaR(q, Omg1, Omg2, Omg3, Omg4)\n",
        "f2 = nablaR(q, Omg2, Omg3, Omg1, Omg4)\n",
        "f3 = nablaR(q, Omg3, Omg1, Omg2, Omg4)\n",
        "print(\"CHECK SECOND BIANCHI Identities\")\n",
        "print(f1 + f2 + f3)\n"
      ],
      "metadata": {
        "colab": {
          "base_uri": "https://localhost:8080/"
        },
        "id": "xX0xFEUTfsq1",
        "outputId": "887f2149-25aa-4bd7-c5c0-b0d864767e98"
      },
      "execution_count": 6,
      "outputs": [
        {
          "output_type": "stream",
          "name": "stdout",
          "text": [
            "CHECK FIRST BIANCHI Identities\n",
            "0.16391555628187335\n",
            "-0.16391555628187335\n",
            "-0.16391555628187418\n",
            "0.16391555628187243\n",
            "CHECK SECOND BIANCHI Identities\n",
            "[[ 1.08246745e-15  2.46469511e-14 -1.74305015e-14]\n",
            " [-1.55431223e-15 -6.66133815e-16 -1.17683641e-14]\n",
            " [ 7.99360578e-15 -4.66293670e-15  7.60502772e-15]\n",
            " [ 2.26485497e-14  1.22124533e-14 -2.13162821e-14]\n",
            " [-1.65423231e-14  4.32986980e-15 -5.32907052e-15]\n",
            " [-2.66453526e-15  5.88418203e-15  1.53210777e-14]\n",
            " [ 3.33066907e-15  2.44249065e-15 -1.83186799e-14]\n",
            " [-1.36557432e-14  5.30686606e-14  1.82076576e-14]\n",
            " [-9.99200722e-15 -6.30606678e-14 -1.05471187e-14]\n",
            " [ 7.77156117e-16 -7.43849426e-15 -2.19824159e-14]]\n"
          ]
        }
      ]
    },
    {
      "cell_type": "markdown",
      "source": [
        "$\\newcommand{\\cQ}{\\mathcal{Q}}$\n",
        "$\\newcommand{\\cB}{\\mathcal{B}}$\n",
        "## CHECK HORIZONTAL PROJECTION\n",
        "\n",
        "The map $(x, y) \\mapsto (xx^T, yy^T)$ is a submersion from $\\cQ$ to $\\cB$ ($\\cQ$ consists of pairs such that $x^Ty$ is invertible - see the paper for details).\n",
        "\n",
        "* The map is also a semiRiemannian submersion with the metric we construct. The horizontal condition is $y^T\\xi U$ and $x^T\\bxi U^T$ are symmetric.\n",
        "\n"
      ],
      "metadata": {
        "id": "qrMdt7k8gC-Q"
      }
    },
    {
      "cell_type": "code",
      "source": [
        "\n",
        "def Ufunc(q):\n",
        "    n = q.shape[0] // 2\n",
        "    x = q[:n, :]\n",
        "    y = q[n:, :]\n",
        "    s, v = jla.eigh(x.T@y@y.T@x)\n",
        "    sh = jnp.sqrt(s)\n",
        "    return v@((1/sh)[:, None]*v.T)@x.T@y\n",
        "\n",
        "\n",
        "def Sigfunc(qg):\n",
        "    n = qg.shape[0]//2\n",
        "    x = qg[:n, :]\n",
        "    y = qg[n:, :]\n",
        "\n",
        "    S2 = x.T@y@y.T@x\n",
        "    s, v = jla.eigh(S2)\n",
        "    sh = jnp.sqrt(s)\n",
        "    Sig = v@(sh[:, None]*v.T)\n",
        "    iSig = v@((1/sh)[:, None]*v.T)\n",
        "    return Sig, iSig\n",
        "\n",
        "Xi1, key = SD.grandVec(key, q)\n",
        "Xi2, key = SD.grandVec(key, q)\n",
        "Xi3, key = SD.grandVec(key, q)\n",
        "Xi4, key = SD.grandVec(key, q)\n",
        "\n",
        "print(\"CHECK TANGENT CONDITION: The following matrices are symmetric\")\n",
        "print(q[n:, :].T@Xi1[:n, :]@Ufunc(q))\n",
        "print(q[:n, :].T@Xi1[n:, :]@Ufunc(q).T)\n"
      ],
      "metadata": {
        "colab": {
          "base_uri": "https://localhost:8080/"
        },
        "id": "pxRndlkZjD5f",
        "outputId": "8528c7da-aaab-437d-82a8-fc087dacbfc5"
      },
      "execution_count": 7,
      "outputs": [
        {
          "output_type": "stream",
          "name": "stdout",
          "text": [
            "CHECK TANGENT CONDITION: The following matrices are symmetric\n",
            "[[ 0.9281167   2.10376202 -2.46186862]\n",
            " [ 2.10376202  1.20143117  0.41323985]\n",
            " [-2.46186862  0.41323985  3.54037618]]\n",
            "[[-1.48562998 -1.96118862  0.42102189]\n",
            " [-1.96118862 -3.22123951 -0.25679862]\n",
            " [ 0.42102189 -0.25679862 -0.18347783]]\n"
          ]
        }
      ]
    },
    {
      "cell_type": "markdown",
      "source": [
        "## CHECK HORIZONTAL AND METRIC COMPATIBLITY of projection"
      ],
      "metadata": {
        "id": "buAg9qbNlvR6"
      }
    },
    {
      "cell_type": "code",
      "source": [
        "pOmg1 = SD.Hproj(q, Omg1)\n",
        "print(\"CHECK HORIZONTAL CONDITION: The matrices are symmetric\")\n",
        "print(q[n:, :].T@pOmg1[:n, :]@Ufunc(q))\n",
        "print(q[:n, :].T@pOmg1[n:, :]@Ufunc(q).T)\n",
        "\n",
        "print(\"CHECK IDEMPONENT\")\n",
        "print(pOmg1 - SD.Hproj(q, pOmg1))\n",
        "\n",
        "print(\"CHECK HORIZONTAL IS ORTHOGONAL TO VERTICAL\")\n",
        "Ver, key = SD.grandVertical(key, q)\n",
        "print(SD.inner(q, pOmg1, Ver))\n",
        "\n",
        "print(\"CHECK METRIC COMPATIBILITY\")\n",
        "print(SD.inner(q, SD.Hproj(q, Omg1), Xi1) - SD.inner(q, Omg1, Xi1))"
      ],
      "metadata": {
        "colab": {
          "base_uri": "https://localhost:8080/"
        },
        "id": "K3vRY5pNlz9-",
        "outputId": "21c18241-3be3-4c1d-b981-57d24df647bc"
      },
      "execution_count": 8,
      "outputs": [
        {
          "output_type": "stream",
          "name": "stdout",
          "text": [
            "CHECK HORIZONTAL CONDITION: The matrices are symmetric\n",
            "[[-2.16910968  0.94860459  0.85250432]\n",
            " [ 0.94860459 -0.19570549  1.19220564]\n",
            " [ 0.85250432  1.19220564 -1.06421787]]\n",
            "[[-1.39365284  0.77242753 -0.66787387]\n",
            " [ 0.77242753  5.70059101  0.37881404]\n",
            " [-0.66787387  0.37881404 -1.08638656]]\n",
            "CHECK IDEMPONENT\n",
            "[[ 0.00000000e+00 -1.66533454e-16  1.11022302e-16]\n",
            " [ 2.22044605e-16 -4.16333634e-16 -5.55111512e-17]\n",
            " [ 2.77555756e-17  3.33066907e-16 -4.44089210e-16]\n",
            " [-2.77555756e-16  2.22044605e-16  4.44089210e-16]\n",
            " [-2.22044605e-16  2.22044605e-16  2.22044605e-16]\n",
            " [ 0.00000000e+00  5.55111512e-17 -1.11022302e-16]\n",
            " [ 1.66533454e-16  5.55111512e-17  1.11022302e-16]\n",
            " [-3.88578059e-16 -2.22044605e-16 -3.33066907e-16]\n",
            " [ 0.00000000e+00 -1.11022302e-16  3.33066907e-16]\n",
            " [ 4.44089210e-16  1.11022302e-16  2.22044605e-16]]\n",
            "CHECK HORIZONTAL IS ORTHOGONAL TO VERTICAL\n",
            "-2.8359620487850425e-17\n",
            "CHECK METRIC COMPATIBILITY\n",
            "4.163336342344337e-17\n"
          ]
        }
      ]
    },
    {
      "cell_type": "markdown",
      "source": [
        "HERE IS THE DEFINITION of grandVertical"
      ],
      "metadata": {
        "id": "SfCgzGW_3MZI"
      }
    },
    {
      "cell_type": "code",
      "source": [
        "print(inspect.getsource(SD.grandVertical))"
      ],
      "metadata": {
        "colab": {
          "base_uri": "https://localhost:8080/"
        },
        "id": "ooThEjw-3Qpx",
        "outputId": "60ca2434-07a8-463f-a140-1f6ba9698f36"
      },
      "execution_count": 9,
      "outputs": [
        {
          "output_type": "stream",
          "name": "stdout",
          "text": [
            "    def grandVertical(self, key, q):\n",
            "        n, k, = self.n, self.k        \n",
            "        tmp, key = grand(key, 2*k, k)\n",
            "        return vcat(q[:n, :]@asym(tmp[:k, :]), q[n:, :]@asym(tmp[k:, :])), key\n",
            "\n"
          ]
        }
      ]
    },
    {
      "cell_type": "markdown",
      "source": [
        "## CHECK the submersed metric is Kim McCann with reflector antenna cost."
      ],
      "metadata": {
        "id": "rZVPElYMt5Uy"
      }
    },
    {
      "cell_type": "code",
      "source": [
        "print(\"THE DEFINITION of the cost function c:\")\n",
        "print(inspect.getsource(SD.c))"
      ],
      "metadata": {
        "colab": {
          "base_uri": "https://localhost:8080/"
        },
        "id": "xtaerXZWuDDT",
        "outputId": "c2b6f97f-4534-4172-abda-0a3adef1e90a"
      },
      "execution_count": 10,
      "outputs": [
        {
          "output_type": "stream",
          "name": "stdout",
          "text": [
            "THE DEFINITION of the cost function c:\n",
            "    def c(self, q):\n",
            "        n, k, al = self.n, self.k, self.al\n",
            "        s = jla.svd(q[:n, :].T@q[n:, :], compute_uv=False)\n",
            "        return -jnp.log(al + jnp.sum(s))\n",
            "\n"
          ]
        }
      ]
    },
    {
      "cell_type": "code",
      "source": [
        "print(-jvp(lambda x: jvp(lambda y: SD.c(vcat(x, y)), (q[n:, :],), (Xi1[n:, :],))[1], (q[:n, :],), (Xi1[:n, :],))[1])\n",
        "print(SD.inner(q, Xi1, Xi1))"
      ],
      "metadata": {
        "colab": {
          "base_uri": "https://localhost:8080/"
        },
        "id": "DIpJwD4euu94",
        "outputId": "a39d4cb0-64aa-4739-f359-f5f23bc55049"
      },
      "execution_count": 11,
      "outputs": [
        {
          "output_type": "stream",
          "name": "stdout",
          "text": [
            "1.0311679997706085\n",
            "1.0311679997706085\n"
          ]
        }
      ]
    },
    {
      "cell_type": "markdown",
      "source": [
        "## CHECK THE horizontal connection is metric compatible.\n",
        "\n",
        "If $Xi$ is a horizontal vector at $q$ then $q_1\\mapsto H(q_1, Xi)$ is a horizontal vector field, we can check\n",
        "\n",
        "$$(\\bdD_{\\bdxi_1}  \\langle H(q_1)\\bdxi_2, H(q_1)\\bdxi_2\\rangle_*)_{q_1=q}\n",
        "= 2 \\langle \\bdxi_2, H'(q, \\bdxi_1)\\bdxi_2 + \\Gamma(\\bdxi_1, \\bdxi_2)\\rangle_* $$\n"
      ],
      "metadata": {
        "id": "xkZbiYQ8nKPf"
      }
    },
    {
      "cell_type": "code",
      "source": [
        "print(jvp( lambda q: SD.inner(q, SD.Hproj(q, Xi2), SD.Hproj(q, Xi2)), (q,), (Xi1,))[1])\n",
        "print(2*SD.inner(q, Xi2, SD.DHproj(q, Xi1, Xi2) + SD.GammaH(q, Xi1, Xi2)))"
      ],
      "metadata": {
        "colab": {
          "base_uri": "https://localhost:8080/"
        },
        "id": "9MbdSQwXpab3",
        "outputId": "932cdfbd-ac89-413e-80ce-be1f34a52aab"
      },
      "execution_count": 12,
      "outputs": [
        {
          "output_type": "stream",
          "name": "stdout",
          "text": [
            "-0.004094052226249416\n",
            "-0.004094052226249312\n"
          ]
        }
      ]
    },
    {
      "cell_type": "markdown",
      "source": [
        "## CHECK THE Bianchi and O'Neill formulas for fix rank matrices"
      ],
      "metadata": {
        "id": "UikHQ0qAtM1r"
      }
    },
    {
      "cell_type": "code",
      "source": [
        "print(\"FIRST BIANCHI\")\n",
        "print(SD.Curv4(q, Xi1, Xi2, Xi3, Xi4))\n",
        "print(SD.Curv4(q, Xi2, Xi1, Xi3, Xi4))\n",
        "print(SD.Curv4(q, Xi1, Xi2, Xi4, Xi3))\n",
        "print(SD.Curv4(q, Xi3, Xi4, Xi1, Xi2))\n",
        "\n",
        "def nablaHorR(q, Xi1, Xi2, Xi3, Xi4):\n",
        "    # extend Xi1, Xi2 to vector fields by projection then take\n",
        "    # covariant derivatives.\n",
        "\n",
        "    # extend Xi1, Xi2 to vector fields by projection then take\n",
        "    # covariant derivatives.\n",
        "    def cov(q, Xi1, Xi2):\n",
        "        return jvp(lambda x: SD.Hproj(x, Xi2), (q,), (Xi1,))[1] \\\n",
        "            + SD.GammaH(q, Xi1, Xi2)\n",
        "\n",
        "    Tot = jvp(lambda x: SD.CurvSD31(\n",
        "        x,\n",
        "        SD.Hproj(x, Xi2),\n",
        "        SD.Hproj(x, Xi3),\n",
        "        SD.Hproj(x, Xi4)),\n",
        "              (q,), (Xi1,))[1] \\\n",
        "        + SD.GammaH(q, Xi1, SD.CurvSD31(q, Xi2, Xi3, Xi4))\n",
        "    R12 = SD.CurvSD31(q, cov(q, Xi1, Xi2), Xi3, Xi4)\n",
        "    R13 = SD.CurvSD31(q, Xi2, cov(q, Xi1, Xi3), Xi4)\n",
        "    R14 = SD.CurvSD31(q, Xi2, Xi3, cov(q, Xi1, Xi4))\n",
        "    return Tot - R12 - R13 - R14\n",
        "\n",
        "print(\"SECOND BIANCHI\")\n",
        "f1 = nablaHorR(q, Xi1, Xi2, Xi3, Xi4)\n",
        "f2 = nablaHorR(q, Xi2, Xi3, Xi1, Xi4)\n",
        "f3 = nablaHorR(q, Xi3, Xi1, Xi2, Xi4)\n",
        "print(f1 + f2 + f3)\n",
        "\n",
        "print(\"O'NEILL\")\n",
        "print(SD.Curv4(q, Xi1, Xi2, Xi3, Xi4))\n",
        "print(SD.CurvAmb4(q, Xi1, Xi2, Xi3, Xi4)\n",
        "          - 2*SD.inner(q, SD.AONeill(q, Xi1, Xi2), SD.AONeill(q, Xi3, Xi4))\n",
        "          + SD.inner(q, SD.AONeill(q, Xi2, Xi3), SD.AONeill(q, Xi1, Xi4))\n",
        "          + SD.inner(q, SD.AONeill(q, Xi3, Xi1), SD.AONeill(q, Xi2, Xi4)))\n",
        "\n"
      ],
      "metadata": {
        "colab": {
          "base_uri": "https://localhost:8080/"
        },
        "id": "m6F8J9yZgBTt",
        "outputId": "3d53099e-9cc9-4b7b-99f9-3852c5e9777d"
      },
      "execution_count": 13,
      "outputs": [
        {
          "output_type": "stream",
          "name": "stdout",
          "text": [
            "FIRST BIANCHI\n",
            "0.11543709027370776\n",
            "-0.11543709027370778\n",
            "-0.11543709027370787\n",
            "0.11543709027370758\n",
            "SECOND BIANCHI\n",
            "[[ 1.22124533e-14  1.65978342e-14  6.63358257e-15]\n",
            " [-8.49320614e-15  1.68753900e-14 -8.63198402e-15]\n",
            " [-8.74855743e-14 -6.21724894e-15 -1.11022302e-15]\n",
            " [-2.44249065e-15  1.26565425e-14  8.65973959e-15]\n",
            " [ 3.99680289e-15 -1.15463195e-14  7.54951657e-15]\n",
            " [ 4.66293670e-15 -7.21644966e-15  2.50910404e-14]\n",
            " [-4.08562073e-14 -5.66213743e-15  7.77156117e-16]\n",
            " [-4.27435864e-15  1.44328993e-15  2.42514342e-14]\n",
            " [-3.55271368e-15  9.85322934e-16  5.32907052e-15]\n",
            " [-4.99600361e-15  1.77635684e-15 -9.60342916e-15]]\n",
            "O'NEILL\n",
            "0.11543709027370776\n",
            "0.11543709027370774\n"
          ]
        }
      ]
    },
    {
      "cell_type": "markdown",
      "source": [
        "NOW CHECK the cross curvature formulas\n",
        "First, we check the ambient curvature is itself nonnegative on null vectors, by a simple formula.\n",
        "\n",
        "The curvature of on the semidefinite manifold is more nonnegative with the aditional O'Neill's tensor"
      ],
      "metadata": {
        "id": "yc0GdiiTwlS0"
      }
    },
    {
      "cell_type": "code",
      "source": [
        "Xix = vcat(Xi1[:n, :], jnp.zeros((n, k)))\n",
        "Xiy = vcat(jnp.zeros((n, k)), Xi1[n:, :])\n",
        "\n",
        "AON = SD.AONeill(q, Xix, Xiy)\n",
        "print(\"CHECK THE AMBIENT CROSS CURVATURE is given by the formula in theorem 7.3\")\n",
        "print(SD.CurvAmb4(q, Xix, Xiy, Xiy, Xix)\n",
        "        - SD.inner(q, AON, AON) + SD.inner(q, Xi1, Xi1)**2)\n",
        "print(\"CHECK the curvature on S^+{n}{k} manifold\")\n",
        "print(4*SD.inner(q, AON, AON) - SD.inner(q, Xi1, Xi1)**2)\n",
        "print(SD.Curv4(q, Xix, Xiy, Xiy, Xix))\n",
        "print(SD.crossCurv4(q, Xi1))\n",
        ""
      ],
      "metadata": {
        "colab": {
          "base_uri": "https://localhost:8080/"
        },
        "id": "5P1WWCx8w0vY",
        "outputId": "7adeb73a-f7f5-4f7a-fe2e-de4a9aa1de49"
      },
      "execution_count": 22,
      "outputs": [
        {
          "output_type": "stream",
          "name": "stdout",
          "text": [
            "CHECK THE AMBIENT CROSS CURVATURE is given by the formula in theorem 7.3\n",
            "-8.881784197001252e-16\n",
            "CHECK the curvature on S^+{n}{k} manifold\n",
            "-0.7445994045228201\n",
            "-0.7445994045228211\n",
            "-0.74459940452282\n"
          ]
        }
      ]
    },
    {
      "cell_type": "markdown",
      "source": [
        "## THE SUBMANFOLD of $\\R^{n\\times k}_*$ with the STIEFEL CONDITION\n",
        "\n",
        "We assume $x^Tx = I = y^Tx$, in addition to $x^Ty$ is invertible.\n",
        "\n",
        "* CHECK THE TANGENT CONDITION"
      ],
      "metadata": {
        "id": "xNwKyfuSznjQ"
      }
    },
    {
      "cell_type": "code",
      "source": [
        "qg, key = SD.grandStfPoint(key)\n",
        "stXi1, key = SD.grandStfVec(key, qg)\n",
        "stXi2, key = SD.grandStfVec(key, qg)\n",
        "stXi3, key = SD.grandStfVec(key, qg)\n",
        "stXi4, key = SD.grandStfVec(key, qg)\n",
        "\n",
        "print(qg[:n, :].T@qg[:n, :])\n",
        "print(qg[n:, :].T@qg[n:, :])\n",
        "\n",
        "print(qg[:n, :].T@stXi1[:n, :])\n",
        "print(qg[n:, :].T@stXi1[n:, :])"
      ],
      "metadata": {
        "colab": {
          "base_uri": "https://localhost:8080/"
        },
        "id": "QDgTC87z3jzP",
        "outputId": "74023008-0c19-4ad4-d314-bd40bf18f1a3"
      },
      "execution_count": 15,
      "outputs": [
        {
          "output_type": "stream",
          "name": "stdout",
          "text": [
            "[[ 1.00000000e+00 -2.19340213e-18 -7.63262301e-17]\n",
            " [-2.19340213e-18  1.00000000e+00  1.07226496e-16]\n",
            " [-7.63262301e-17  1.07226496e-16  1.00000000e+00]]\n",
            "[[ 1.00000000e+00 -5.35945011e-17  3.74448915e-17]\n",
            " [-5.35945011e-17  1.00000000e+00 -1.47299763e-16]\n",
            " [ 3.74448915e-17 -1.47299763e-16  1.00000000e+00]]\n",
            "[[ 3.57511660e-16 -5.24537255e-01 -9.56403888e-01]\n",
            " [ 5.24537255e-01  9.42639141e-17  1.49887629e+00]\n",
            " [ 9.56403888e-01 -1.49887629e+00  1.20599572e-16]]\n",
            "[[ 5.38994218e-19  1.75699173e-01  4.33668602e-01]\n",
            " [-1.75699173e-01 -4.43252354e-16  7.41456162e-01]\n",
            " [-4.33668602e-01 -7.41456162e-01 -4.17491510e-16]]\n"
          ]
        }
      ]
    },
    {
      "cell_type": "markdown",
      "source": [
        "## CHECK THE BIANCHI FORMULA"
      ],
      "metadata": {
        "id": "oBLFYgWb4HH2"
      }
    },
    {
      "cell_type": "code",
      "source": [
        "print(SD.CurvStief4(qg, stXi1, stXi2, stXi3, stXi4))\n",
        "print(SD.CurvStief4(qg, stXi2, stXi1, stXi3, stXi4))\n",
        "print(SD.CurvStief4(qg, stXi1, stXi2, stXi4, stXi3))\n",
        "print(SD.CurvStief4(qg, stXi3, stXi4, stXi1, stXi2))\n",
        "\n",
        "def nablaRStief(SD, qg, xi1, xi2, xi3, xi4):\n",
        "    # extend Xi1, Xi2 to vector fields by projection then take\n",
        "    # covariant derivatives.\n",
        "    Tot = jvp(lambda x: SD.CurvStief(x, xi2, xi3, xi4),\n",
        "              (qg,), (xi1,))[1] \\\n",
        "        + SD.GammaStief(qg, xi1, SD.CurvStief(qg, xi2, xi3, xi4))\n",
        "\n",
        "    R12 = SD.CurvStief(qg, SD.GammaStief(qg, xi1, xi2), xi3, xi4)\n",
        "    R13 = SD.CurvStief(qg, xi2, SD.GammaStief(qg, xi1, xi3), xi4)\n",
        "    R14 = SD.CurvStief(qg, xi2, xi3, SD.GammaStief(qg, xi1, xi4))\n",
        "    return Tot - R12 - R13 - R14\n",
        "\n",
        "ef1 = nablaRStief(SD, qg, stXi1, stXi2, stXi3, stXi4)\n",
        "ef2 = nablaRStief(SD, qg, stXi2, stXi3, stXi1, stXi4)\n",
        "ef3 = nablaRStief(SD, qg, stXi3, stXi1, stXi2, stXi4)\n",
        "print(ef1 + ef2 + ef3)\n"
      ],
      "metadata": {
        "colab": {
          "base_uri": "https://localhost:8080/"
        },
        "id": "ZGPEi6vV4Kve",
        "outputId": "7edf740b-617b-49a7-f6fc-7d3acd43ec14"
      },
      "execution_count": 16,
      "outputs": [
        {
          "output_type": "stream",
          "name": "stdout",
          "text": [
            "0.45451023349118247\n",
            "-0.45451023349118247\n",
            "-0.4545102334911619\n",
            "0.4545102334912083\n",
            "[[-2.03659312e-12  3.46567219e-12  2.58904009e-13]\n",
            " [-4.35207426e-13  8.09574630e-13  3.25406369e-12]\n",
            " [-4.69757566e-12 -3.06443759e-12 -5.64437386e-12]\n",
            " [-1.95132799e-12  3.26116911e-12  4.48618920e-12]\n",
            " [-3.43947093e-12  2.44226861e-12 -1.35074174e-11]\n",
            " [ 3.11484172e-12 -7.94830868e-12  1.16586740e-11]\n",
            " [-1.48761004e-11 -5.09459142e-12  7.14761583e-12]\n",
            " [-3.66817687e-13 -1.90958360e-12  1.82787119e-12]\n",
            " [-9.52837809e-12  8.00959299e-12 -4.18909352e-12]\n",
            " [ 2.25375274e-12  1.41557877e-11 -2.50466314e-12]]\n"
          ]
        }
      ]
    },
    {
      "cell_type": "markdown",
      "source": [
        "## Gauss-Codazzi for Stiefel"
      ],
      "metadata": {
        "id": "cJP_g7nK4XB_"
      }
    },
    {
      "cell_type": "code",
      "source": [
        "c1 = SD.CurvStief4(qg, stXi1, stXi2, stXi3, stXi4)\n",
        "c2 = SD.CurvAmb4(qg, stXi1, stXi2, stXi3, stXi4) \\\n",
        "    - SD.inner(qg, SD.TwoStief(qg, stXi1, stXi3), SD.TwoStief(qg, stXi2, stXi4)) \\\n",
        "    + SD.inner(qg, SD.TwoStief(qg, stXi2, stXi3), SD.TwoStief(qg, stXi1, stXi4))\n",
        "print(c1, c2)"
      ],
      "metadata": {
        "colab": {
          "base_uri": "https://localhost:8080/"
        },
        "id": "9pGY7YSG4ctl",
        "outputId": "3e9c4dbc-01b1-4058-d24b-679039e5ce31"
      },
      "execution_count": 17,
      "outputs": [
        {
          "output_type": "stream",
          "name": "stdout",
          "text": [
            "0.45451023349118247 0.4545102334911913\n"
          ]
        }
      ]
    },
    {
      "cell_type": "markdown",
      "source": [
        "## GRASSMANN:\n",
        "* Generate horizontal - tangent vector\n",
        "check the horizontal, tangent condition\n"
      ],
      "metadata": {
        "id": "MK1GGX6D9kP7"
      }
    },
    {
      "cell_type": "code",
      "source": [
        "grXi1 = SD.projGrass(qg, stXi1)\n",
        "grXi2 = SD.projGrass(qg, stXi2)\n",
        "grXi3 = SD.projGrass(qg, stXi3)\n",
        "grXi4 = SD.projGrass(qg, stXi4)\n",
        "\n",
        "print(\"CHECK x^T xi and y^T\\\\bar{xi} are antisymmetric\")\n",
        "print(qg[:n, :].T@grXi1[:n, :])\n",
        "print(qg[n:, :].T@grXi1[n:, :])\n",
        "\n",
        "print(\"CHECK HORIZONTAL CONDITION: The following matrices are symmetric\")\n",
        "print(qg[n:, :].T@grXi1[:n, :]@Ufunc(qg))\n",
        "print(qg[:n, :].T@grXi1[n:, :]@Ufunc(qg).T)"
      ],
      "metadata": {
        "colab": {
          "base_uri": "https://localhost:8080/"
        },
        "id": "IJ6UjdIR-exZ",
        "outputId": "f7cfd30d-b856-4d63-8cd7-cfa7436721d7"
      },
      "execution_count": 18,
      "outputs": [
        {
          "output_type": "stream",
          "name": "stdout",
          "text": [
            "CHECK x^T xi and y^T\\bar{xi} are antisymmetric\n",
            "[[ 2.59633603e-18 -2.34570274e-01 -5.43896697e-01]\n",
            " [ 2.34570274e-01  1.26458169e-16  6.07283569e-01]\n",
            " [ 5.43896697e-01 -6.07283569e-01 -8.19502679e-17]]\n",
            "[[ 6.92756297e-17 -1.94461930e-02  6.51903675e-02]\n",
            " [ 1.94461930e-02 -1.11725401e-16 -2.80988897e-02]\n",
            " [-6.51903675e-02  2.80988897e-02  1.18700665e-16]]\n",
            "CHECK HORIZONTAL CONDITION: The following matrices are symmetric\n",
            "[[-1.06515423  0.15733849 -0.33921965]\n",
            " [ 0.15733849  0.26876701 -0.23376107]\n",
            " [-0.33921965 -0.23376107  0.27584803]]\n",
            "[[ 0.6879652  -0.25312059  0.95515941]\n",
            " [-0.25312059  0.05008928 -0.28129319]\n",
            " [ 0.95515941 -0.28129319  1.3309955 ]]\n"
          ]
        }
      ]
    },
    {
      "cell_type": "markdown",
      "source": [
        "CHECK Bianchi for Grassmann"
      ],
      "metadata": {
        "id": "9gJUOd0lADPu"
      }
    },
    {
      "cell_type": "code",
      "source": [
        "print(\"FIRST BIANCHI\")\n",
        "print(SD.CurvGrass4(qg, grXi1, grXi2, grXi3, grXi4))\n",
        "print(SD.CurvGrass4(qg, grXi2, grXi1, grXi3, grXi4))\n",
        "print(SD.CurvGrass4(qg, grXi1, grXi2, grXi4, grXi3))\n",
        "print(SD.CurvGrass4(qg, grXi3, grXi4, grXi1, grXi2))\n",
        "\n",
        "def nablaGrassR(SD, q, Xi1, Xi2, Xi3, Xi4):\n",
        "    # extend Xi1, Xi2 to vector fields by projection then take\n",
        "    # covariant derivatives.\n",
        "\n",
        "    # extend Xi1, Xi2 to vector fields by projection then take\n",
        "    # covariant derivatives.\n",
        "    def cov(q, Xi1, Xi2):\n",
        "        return jvp(lambda x: SD.projGrass(x, Xi2), (q,), (Xi1,))[1] \\\n",
        "            + SD.GammaGrass(q, Xi1, Xi2)\n",
        "\n",
        "    Tot = jvp(lambda x: SD.CurvGrass31(\n",
        "        x,\n",
        "        SD.projGrass(x, Xi2),\n",
        "        SD.projGrass(x, Xi3),\n",
        "        SD.projGrass(x, Xi4)),\n",
        "              (q,), (Xi1,))[1] \\\n",
        "        + SD.GammaGrass(q, Xi1, SD.CurvGrass31(q, Xi2, Xi3, Xi4))\n",
        "    R12 = SD.CurvGrass31(q, cov(q, Xi1, Xi2), Xi3, Xi4)\n",
        "    R13 = SD.CurvGrass31(q, Xi2, cov(q, Xi1, Xi3), Xi4)\n",
        "    R14 = SD.CurvGrass31(q, Xi2, Xi3, cov(q, Xi1, Xi4))\n",
        "    return Tot - R12 - R13 - R14\n",
        "\n",
        "print(\"SECOND BIANCHI\")\n",
        "gf1 = nablaGrassR(SD, qg, grXi1, grXi2, grXi3, grXi4)\n",
        "gf2 = nablaGrassR(SD, qg, grXi2, grXi3, grXi1, grXi4)\n",
        "gf3 = nablaGrassR(SD, qg, grXi3, grXi1, grXi2, grXi4)\n",
        "\n",
        "print(gf1 + gf2 + gf3)\n",
        "\n"
      ],
      "metadata": {
        "colab": {
          "base_uri": "https://localhost:8080/"
        },
        "id": "f0b_hxhXAGpz",
        "outputId": "5e1f7baf-9114-4df0-bdd1-42b6bfc036bd"
      },
      "execution_count": 19,
      "outputs": [
        {
          "output_type": "stream",
          "name": "stdout",
          "text": [
            "FIRST BIANCHI\n",
            "-0.3067863033226046\n",
            "0.30678630332260454\n",
            "0.3067863033226004\n",
            "-0.30678630332259255\n",
            "SECOND BIANCHI\n",
            "[[ 2.95674596e-12  2.04591899e-12 -1.64668279e-12]\n",
            " [-4.02167188e-12 -2.71338507e-13  8.12683254e-14]\n",
            " [ 6.38600284e-13 -1.98019379e-12  7.62057084e-13]\n",
            " [-1.14042109e-12  1.77902137e-12  6.25632879e-12]\n",
            " [-6.86783963e-12 -1.31072930e-12  2.18758345e-12]\n",
            " [ 2.31059616e-12  1.39971368e-12 -2.25153229e-13]\n",
            " [-4.03765910e-12  1.11910481e-13  9.99200722e-13]\n",
            " [-3.36175532e-12  1.41586742e-12 -1.86572979e-12]\n",
            " [ 1.67488245e-12 -4.85278484e-13  2.33790765e-12]\n",
            " [-7.53197504e-12 -8.42881320e-13  2.66009437e-12]]\n"
          ]
        }
      ]
    },
    {
      "cell_type": "markdown",
      "source": [
        "## CHECK O'Neill and Gauss-Codazzi for the inclusion of Grassmann in fixed rank semisymmetric"
      ],
      "metadata": {
        "id": "M_h4A3OmAZCl"
      }
    },
    {
      "cell_type": "code",
      "source": [
        "print(\"Check O'Neill\")\n",
        "print(SD.CurvGrass4(qg, grXi1, grXi2, grXi3, grXi4))\n",
        "print(SD.CurvStief4(qg, grXi1, grXi2, grXi3, grXi4)\n",
        "      - 2*SD.inner(qg, SD.AONeill(qg, grXi1, grXi2), SD.AONeill(qg, grXi3, grXi4))\n",
        "      + SD.inner(qg, SD.AONeill(qg, grXi2, grXi3), SD.AONeill(qg, grXi1, grXi4))\n",
        "      + SD.inner(qg, SD.AONeill(qg, grXi3, grXi1), SD.AONeill(qg, grXi2, grXi4)))\n",
        "\n",
        "# Check Gauss-Codazzi for the inclusion Grass subset Semidefinite\n",
        "print(\"Check Gauss-Codazzi\")\n",
        "def TwoSDGrass(SD, qg, grXi1, grXi2):\n",
        "    GA = SD.GammaH(qg, grXi1, grXi2)\n",
        "    return SD.DprojGrass(qg, grXi1, grXi2) \\\n",
        "        + GA - SD.projGrass(qg, GA)\n",
        "\n",
        "c1 = SD.CurvGrass4(qg, grXi1, grXi2, grXi3, grXi4)\n",
        "c2 = SD.Curv4(qg, grXi1, grXi2, grXi3, grXi4) \\\n",
        "    - SD.inner(qg, TwoSDGrass(SD, qg, grXi1, grXi3), TwoSDGrass(SD, qg, grXi2, grXi4)) \\\n",
        "    + SD.inner(qg, TwoSDGrass(SD, qg, grXi1, grXi4), TwoSDGrass(SD, qg, grXi2, grXi3))\n",
        "print(c1, c2)\n",
        "\n"
      ],
      "metadata": {
        "colab": {
          "base_uri": "https://localhost:8080/"
        },
        "id": "rUpKOnBtAYgn",
        "outputId": "7da08213-4b33-47d6-acb8-0fbabd8591f8"
      },
      "execution_count": 20,
      "outputs": [
        {
          "output_type": "stream",
          "name": "stdout",
          "text": [
            "Check O'Neill\n",
            "-0.3067863033226046\n",
            "-0.3067863033226078\n",
            "Check Gauss-Codazzi\n",
            "-0.3067863033226046 -0.3067863033226025\n"
          ]
        }
      ]
    },
    {
      "cell_type": "markdown",
      "source": [
        "Now, the Cross Curvature for Grassmann"
      ],
      "metadata": {
        "id": "MzeeeDrYCmAL"
      }
    },
    {
      "cell_type": "code",
      "source": [
        "print(inspect.getsource(SD.crossCurvGrassNumeric))\n",
        "print(inspect.getsource(SD.crossCurvGrass))\n",
        "\n",
        "print(SD.crossCurvGrassNumeric(qg, grXi1))\n",
        "print(SD.crossCurvGrass(qg, grXi1))\n",
        "\n"
      ],
      "metadata": {
        "colab": {
          "base_uri": "https://localhost:8080/"
        },
        "id": "GQNEah-4Co0G",
        "outputId": "16b52f4e-5ac5-417a-f79b-a16063b1181c"
      },
      "execution_count": 21,
      "outputs": [
        {
          "output_type": "stream",
          "name": "stdout",
          "text": [
            "    def crossCurvGrassNumeric(self, qg, grEta):\n",
            "        grEtax, grEtay = splitzero(grEta)\n",
            "        return self.CurvGrass4(qg, grEtax, grEtay, grEtay, grEtax)\n",
            "\n",
            "    def crossCurvGrass(self, qg, grEta):\n",
            "        grEtax, grEtay = splitzero(grEta)\n",
            "        n, al = self.n, self.al\n",
            "        x = qg[:n, :]\n",
            "        y = qg[n:, :]\n",
            "\n",
            "        S2 = x.T@y@y.T@x\n",
            "        s, v = jla.eigh(S2)\n",
            "        sh = jnp.sqrt(s)    \n",
            "        Sig = v@(sh[:, None]*v.T)\n",
            "        iSig = v@((1/sh)[:, None]*v.T)\n",
            "        KK = al + jnp.trace(Sig)\n",
            "        U = iSig@x.T@y\n",
            "        \n",
            "        ret = - self.inner(qg, grEta, grEta)**2 \\\n",
            "            + 4/KK*jnp.trace(\n",
            "                Lyapunov(Sig, asym(U@(grEta[n:, :].T@grEta[:n, :])))@\n",
            "                Sig@Lyapunov(Sig, asym(grEta[:n, :].T@grEta[n:, :]@U.T))) \\\n",
            "            + 2/KK*jnp.trace(Lyapunov(Sig, grEtax[:n, :].T@grEtax[:n, :])@Sig@Lyapunov(Sig, U@grEtay[n:, :].T@grEtay[n:, :]@U.T)) \\\n",
            "            - 0.5/KK/(al+jnp.trace(iSig))*jnp.trace(iSig@grEtax[:n, :].T@grEtax[:n, :])*jnp.trace(iSig@U@grEtay[n:, :].T@grEtay[n:, :]@U.T)                \n",
            "        \n",
            "        return ret\n",
            "\n",
            "0.8493706218362314\n",
            "0.8493706218362278\n"
          ]
        }
      ]
    }
  ]
}