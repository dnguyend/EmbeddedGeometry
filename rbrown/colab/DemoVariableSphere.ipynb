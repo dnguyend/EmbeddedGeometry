{
  "nbformat": 4,
  "nbformat_minor": 0,
  "metadata": {
    "colab": {
      "provenance": [],
      "authorship_tag": "ABX9TyPTLRPICToDkev+9GQ86H07",
      "include_colab_link": true
    },
    "kernelspec": {
      "name": "python3",
      "display_name": "Python 3"
    },
    "language_info": {
      "name": "python"
    },
    "widgets": {
      "application/vnd.jupyter.widget-state+json": {
        "731c51a3a70849e4920729e040b69ba4": {
          "model_module": "@jupyter-widgets/controls",
          "model_name": "TextModel",
          "model_module_version": "1.5.0",
          "state": {
            "_dom_classes": [],
            "_model_module": "@jupyter-widgets/controls",
            "_model_module_version": "1.5.0",
            "_model_name": "TextModel",
            "_view_count": null,
            "_view_module": "@jupyter-widgets/controls",
            "_view_module_version": "1.5.0",
            "_view_name": "TextView",
            "continuous_update": true,
            "description": "Username",
            "description_tooltip": null,
            "disabled": false,
            "layout": "IPY_MODEL_cf9677950aec473bbef3011b54fb1509",
            "placeholder": "​",
            "style": "IPY_MODEL_18bf867ec12b4eee952b83b09a872dcc",
            "value": ""
          }
        },
        "cf9677950aec473bbef3011b54fb1509": {
          "model_module": "@jupyter-widgets/base",
          "model_name": "LayoutModel",
          "model_module_version": "1.2.0",
          "state": {
            "_model_module": "@jupyter-widgets/base",
            "_model_module_version": "1.2.0",
            "_model_name": "LayoutModel",
            "_view_count": null,
            "_view_module": "@jupyter-widgets/base",
            "_view_module_version": "1.2.0",
            "_view_name": "LayoutView",
            "align_content": null,
            "align_items": null,
            "align_self": null,
            "border": null,
            "bottom": null,
            "display": null,
            "flex": null,
            "flex_flow": null,
            "grid_area": null,
            "grid_auto_columns": null,
            "grid_auto_flow": null,
            "grid_auto_rows": null,
            "grid_column": null,
            "grid_gap": null,
            "grid_row": null,
            "grid_template_areas": null,
            "grid_template_columns": null,
            "grid_template_rows": null,
            "height": null,
            "justify_content": null,
            "justify_items": null,
            "left": null,
            "margin": null,
            "max_height": null,
            "max_width": null,
            "min_height": null,
            "min_width": null,
            "object_fit": null,
            "object_position": null,
            "order": null,
            "overflow": null,
            "overflow_x": null,
            "overflow_y": null,
            "padding": null,
            "right": null,
            "top": null,
            "visibility": null,
            "width": null
          }
        },
        "18bf867ec12b4eee952b83b09a872dcc": {
          "model_module": "@jupyter-widgets/controls",
          "model_name": "DescriptionStyleModel",
          "model_module_version": "1.5.0",
          "state": {
            "_model_module": "@jupyter-widgets/controls",
            "_model_module_version": "1.5.0",
            "_model_name": "DescriptionStyleModel",
            "_view_count": null,
            "_view_module": "@jupyter-widgets/base",
            "_view_module_version": "1.2.0",
            "_view_name": "StyleView",
            "description_width": ""
          }
        },
        "e14bda37457f45afb7231ee55a579e3e": {
          "model_module": "@jupyter-widgets/controls",
          "model_name": "PasswordModel",
          "model_module_version": "1.5.0",
          "state": {
            "_dom_classes": [],
            "_model_module": "@jupyter-widgets/controls",
            "_model_module_version": "1.5.0",
            "_model_name": "PasswordModel",
            "_view_count": null,
            "_view_module": "@jupyter-widgets/controls",
            "_view_module_version": "1.5.0",
            "_view_name": "PasswordView",
            "continuous_update": true,
            "description": "Password",
            "description_tooltip": null,
            "disabled": false,
            "layout": "IPY_MODEL_95ecc6fc7db8453c83010c233aa90903",
            "placeholder": "password here",
            "style": "IPY_MODEL_1540429c51a042139a315b5797fc2acd",
            "value": ""
          }
        },
        "95ecc6fc7db8453c83010c233aa90903": {
          "model_module": "@jupyter-widgets/base",
          "model_name": "LayoutModel",
          "model_module_version": "1.2.0",
          "state": {
            "_model_module": "@jupyter-widgets/base",
            "_model_module_version": "1.2.0",
            "_model_name": "LayoutModel",
            "_view_count": null,
            "_view_module": "@jupyter-widgets/base",
            "_view_module_version": "1.2.0",
            "_view_name": "LayoutView",
            "align_content": null,
            "align_items": null,
            "align_self": null,
            "border": null,
            "bottom": null,
            "display": null,
            "flex": null,
            "flex_flow": null,
            "grid_area": null,
            "grid_auto_columns": null,
            "grid_auto_flow": null,
            "grid_auto_rows": null,
            "grid_column": null,
            "grid_gap": null,
            "grid_row": null,
            "grid_template_areas": null,
            "grid_template_columns": null,
            "grid_template_rows": null,
            "height": null,
            "justify_content": null,
            "justify_items": null,
            "left": null,
            "margin": null,
            "max_height": null,
            "max_width": null,
            "min_height": null,
            "min_width": null,
            "object_fit": null,
            "object_position": null,
            "order": null,
            "overflow": null,
            "overflow_x": null,
            "overflow_y": null,
            "padding": null,
            "right": null,
            "top": null,
            "visibility": null,
            "width": null
          }
        },
        "1540429c51a042139a315b5797fc2acd": {
          "model_module": "@jupyter-widgets/controls",
          "model_name": "DescriptionStyleModel",
          "model_module_version": "1.5.0",
          "state": {
            "_model_module": "@jupyter-widgets/controls",
            "_model_module_version": "1.5.0",
            "_model_name": "DescriptionStyleModel",
            "_view_count": null,
            "_view_module": "@jupyter-widgets/base",
            "_view_module_version": "1.2.0",
            "_view_name": "StyleView",
            "description_width": ""
          }
        }
      }
    }
  },
  "cells": [
    {
      "cell_type": "markdown",
      "metadata": {
        "id": "view-in-github",
        "colab_type": "text"
      },
      "source": [
        "<a href=\"https://colab.research.google.com/github/dnguyend/EmbeddedGeometry/blob/main/rbrown/colab/DemoVariableSphere.ipynb\" target=\"_parent\"><img src=\"https://colab.research.google.com/assets/colab-badge.svg\" alt=\"Open In Colab\"/></a>"
      ]
    },
    {
      "cell_type": "markdown",
      "source": [
        "$\\newcommand{\\R}{\\mathbb{R}}$\n",
        "# Testing the variable sphere class\n",
        "* This one tests the variable_sphere class.\n",
        "* This class consider a sphere $S_V^d$ in $\\R^{d+1}$ with radius $\\R$, but with the metric given by\n",
        "$\\langle \\xi, \\eta_x = \\xi^T(D(x)\\odot \\eta) + \\epsilon (C(x)^T\\xi)(C(x)^T\\eta)$\n",
        "where $D$ and $C$ are two vector-valued functions, and $\\epsilon\\in \\{\\pm 1\\}$. We will  assume $D(x)$ has all positive entries while $C(x)$ could have negative entries, however the over all metric is positive definite as a bilinear pairing on $\\R^{d+1}$. Obviously if $\\epsilon = 1$ and $C$ has nonnegative entries then this is satisfied.\n",
        "* This class includes thhe ellipsoids metric, it is complicated  enough to hopefully test the algorithm for robustness, yet the projection and Levi-Civita  connection could be computed efficiently.\n",
        "\n",
        "\n",
        "# Credential\n",
        "If you want to run the code, since the repository is private you  need to load with your Github credential. You can use your common credential, the sign in code is transparent here (We replace @ by %40 in email address in  the code below). You can also create a  [special token](https://docs.github.com/en/authentication/keeping-your-account-and-data-secure/managing-your-personal-access-tokens) for this repository, so if that token is stolen by anybody, the best he/she can do is go in to this repository, but cannot do harm to anything else.\n",
        "\n",
        "Some other ways to load private repository are [here](https://stackoverflow.com/questions/48350226/methods-for-using-git-with-google-colab) if  you don't like the widget below."
      ],
      "metadata": {
        "id": "TTXXFNm6_tij"
      }
    },
    {
      "cell_type": "code",
      "execution_count": 1,
      "metadata": {
        "id": "02tVO7VU-cNo"
      },
      "outputs": [],
      "source": [
        "import ipywidgets as widgets\n",
        "from IPython.display import display\n",
        "import subprocess\n",
        "\n",
        "\n",
        "class credentials_input():\n",
        "    \"\"\"To access a private repository\n",
        "    Include this snippet of codes to colab if you want to access\n",
        "    a private repository\n",
        "    \"\"\"\n",
        "    def __init__(self, repo_name):\n",
        "        self.repo_name = repo_name\n",
        "        self.username = widgets.Text(description='Username', value='')\n",
        "        self.pwd = widgets.Password(\n",
        "            description='Password', placeholder='password here')\n",
        "\n",
        "        self.username.on_submit(self.handle_submit_username)\n",
        "        self.pwd.on_submit(self.handle_submit_pwd)\n",
        "        display(\"Use %40 for @ in email address:\")\n",
        "        display(self.username)\n",
        "\n",
        "    def handle_submit_username(self, text):\n",
        "        display(self.pwd)\n",
        "\n",
        "    def handle_submit_pwd(self, text):\n",
        "        username = self.username.value.replace('@', '%40')\n",
        "        cmd = f'git clone https://{username}:{self.pwd.value}@{self.repo_name}'\n",
        "        process = subprocess.Popen(\n",
        "            cmd.split(), stdout=subprocess.PIPE, stderr=subprocess.PIPE)\n",
        "        output, error = process.communicate()\n",
        "        print(output, error)\n",
        "        self.username.value, self.pwd.value = '', ''\n",
        "\n"
      ]
    },
    {
      "cell_type": "code",
      "source": [
        "credentials_input('github.com/dnguyend/GeometricML.git')"
      ],
      "metadata": {
        "colab": {
          "base_uri": "https://localhost:8080/",
          "height": 134,
          "referenced_widgets": [
            "731c51a3a70849e4920729e040b69ba4",
            "cf9677950aec473bbef3011b54fb1509",
            "18bf867ec12b4eee952b83b09a872dcc",
            "e14bda37457f45afb7231ee55a579e3e",
            "95ecc6fc7db8453c83010c233aa90903",
            "1540429c51a042139a315b5797fc2acd"
          ]
        },
        "id": "qk42-zhs-p3z",
        "outputId": "5bc914ef-be06-426d-eeff-498f8f87b17d"
      },
      "execution_count": 3,
      "outputs": [
        {
          "output_type": "display_data",
          "data": {
            "text/plain": [
              "'Use %40 for @ in email address:'"
            ],
            "application/vnd.google.colaboratory.intrinsic+json": {
              "type": "string"
            }
          },
          "metadata": {}
        },
        {
          "output_type": "display_data",
          "data": {
            "text/plain": [
              "Text(value='', description='Username')"
            ],
            "application/vnd.jupyter.widget-view+json": {
              "version_major": 2,
              "version_minor": 0,
              "model_id": "731c51a3a70849e4920729e040b69ba4"
            }
          },
          "metadata": {}
        },
        {
          "output_type": "execute_result",
          "data": {
            "text/plain": [
              "<__main__.credentials_input at 0x7f4b407bae30>"
            ]
          },
          "metadata": {},
          "execution_count": 3
        },
        {
          "output_type": "display_data",
          "data": {
            "text/plain": [
              "Password(description='Password', placeholder='password here')"
            ],
            "application/vnd.jupyter.widget-view+json": {
              "version_major": 2,
              "version_minor": 0,
              "model_id": "e14bda37457f45afb7231ee55a579e3e"
            }
          },
          "metadata": {}
        },
        {
          "output_type": "stream",
          "name": "stdout",
          "text": [
            "b'' b\"Cloning into 'GeometricML'...\\n\"\n"
          ]
        }
      ]
    },
    {
      "cell_type": "markdown",
      "source": [
        "If there is a mistake, please  clear  your output, otherwise your credential may be displayed. Or you could change the handle_submit_pwd above to NOT displaying the  output/error."
      ],
      "metadata": {
        "id": "J71KYL4DZsfP"
      }
    },
    {
      "cell_type": "code",
      "source": [
        "import jax\n",
        "import jax.numpy as jnp\n",
        "import jax.numpy.linalg as jla\n",
        "import jax.scipy.integrate as jsi\n",
        "from jax import random, jvp\n",
        "\n",
        "import numpy as np\n",
        "\n",
        "import GeometricML.rbrown.simulation.heat_kernels as hkm\n",
        "import GeometricML.rbrown.manifolds.variable_sphere as vpm\n",
        "from GeometricML.rbrown.utils.utils import (grand, get_complement_basis)\n",
        "jax.config.update(\"jax_enable_x64\", True)"
      ],
      "metadata": {
        "id": "l6Ju2WeP_mp8"
      },
      "execution_count": 4,
      "outputs": []
    },
    {
      "cell_type": "markdown",
      "source": [
        "$\\newcommand{\\rD}{\\mathrm{D}}$\n",
        "Creating a sphere  of  radius R with a variable metric.\n",
        "In this case $D(x) =  v_{D0} + v_{D1}\\odot x^{\\odot 2}$, $C(x) = v_C\\odot x$, we also supply Jacobian of $D$ and $C$, and the cross terms $x_D, x_C$ so that:\n",
        "$$\\chi_D^T(\\omega_1, \\omega_2)\\omega_0 = \\rD_{\\omega_0} \\{(D(x)\\odot\\omega_1)^T\\omega_2\\}\\\\\n",
        "\\chi_C^T(\\omega_1, \\omega_2)\\omega_0 = \\rD_{\\omega_0} \\{(C(x)\\odot\\omega_1)^T\\omega_2\\}\n",
        "$$\n",
        "for the calculation of the Christoffel  function."
      ],
      "metadata": {
        "id": "BtkgufpnCjqa"
      }
    },
    {
      "cell_type": "code",
      "source": [
        "from jax import random, jvp\n",
        "key = random.PRNGKey(0)\n",
        "\n",
        "d = 3\n",
        "R = 1.3\n",
        "\n",
        "vD0, key = grand(key, (d+1,))\n",
        "vD0 = vD0*vD0 + 1\n",
        "vD1, key = grand(key, (d+1,))\n",
        "vD1 = vD1*vD1\n",
        "vC, key = grand(key, (d+1,))\n",
        "\n",
        "sph = vpm.VariableSphere(R, d,\n",
        "                      lambda x: vD0 + vD1*x**2,\n",
        "                      lambda x: vC*x,\n",
        "                      lambda x, omg: 2*vD1*x*omg,\n",
        "                      lambda x, omg: vC*omg,\n",
        "                      lambda x, omg1, omg2: 2*vD1*x*omg1*omg2,\n",
        "                      lambda x: vC,\n",
        "                      1)\n"
      ],
      "metadata": {
        "id": "RnGOgpi__oxp"
      },
      "execution_count": 5,
      "outputs": []
    },
    {
      "cell_type": "markdown",
      "source": [
        "Check the projection is metric invariant, and various compatiblity conditions"
      ],
      "metadata": {
        "id": "x0QoFh3yCxDJ"
      }
    },
    {
      "cell_type": "code",
      "source": [
        "x, key = sph.randpoint(key)\n",
        "print(jnp.sum(x*x) - R**2)\n",
        "y, key = sph.randpoint(key)\n",
        "\n",
        "v, key = sph.randvec(key, x)\n",
        "print(jnp.sum(x*v))\n",
        "\n",
        "va, key = sph.randvec(key, x)\n",
        "vb, key = sph.randvec(key, x)\n",
        "omg, key = sph.rand_amb(key)\n",
        "omg0, key = sph.rand_amb(key)\n",
        "\n",
        "\n",
        "omg1 = sph.metric(x, omg)\n",
        "omg2 = sph.inv_metric(x, omg1)\n",
        "print(\"test inv_metric is invert of metric\")\n",
        "print(omg2 - omg)\n",
        "print(jnp.sum(va*omg1) - sph.inner(x, va, omg))\n",
        "\n",
        "pomg = sph.proj(x, omg)\n",
        "print(\"test projection is metric compatible\")\n",
        "print(jnp.sum(x*pomg))\n",
        "print(sph.inner(x, omg, va) - sph.inner(x, sph.proj(x, omg), va))\n",
        "\n",
        "print(\"test derivative formula for metric\")\n",
        "print(jvp(lambda x: sph.metric(x, omg1), (x,), (omg0,))[1])\n",
        "print(sph.d_metric(x, omg0, omg1))\n",
        "\n",
        "print(\"test the index raising formula\")\n",
        "print(jnp.sum(sph.d_metric(x, omg0, omg1)*omg2))\n",
        "print(jnp.sum(sph.x_metric(x, omg1, omg2)*omg0))\n",
        "\n",
        "print(\"test the derivative of the projection\")\n",
        "print(jvp(lambda x: sph.proj(x, vb), (x,), (va,))[1])\n",
        "print(sph.d_proj(x, va, vb))\n",
        "\n"
      ],
      "metadata": {
        "colab": {
          "base_uri": "https://localhost:8080/"
        },
        "id": "TG6XQpuPCsU7",
        "outputId": "ff801992-e5ed-4f1f-feb8-44d660f43f91"
      },
      "execution_count": 6,
      "outputs": [
        {
          "output_type": "stream",
          "name": "stdout",
          "text": [
            "4.440892098500626e-16\n",
            "3.3306690738754696e-16\n",
            "test inv_metric is invert of metric\n",
            "[ 0.00000000e+00  6.66133815e-16 -1.11022302e-16 -8.32667268e-17]\n",
            "1.1102230246251565e-16\n",
            "test projection is metric compatible\n",
            "2.914335439641036e-16\n",
            "1.1102230246251565e-15\n",
            "test derivative formula for metric\n",
            "[ 3.25507442 -1.17230552 -5.89113721  0.31270068]\n",
            "[ 3.25507442 -1.17230552 -5.89113721  0.31270068]\n",
            "test the index raising formula\n",
            "-3.201881617282374\n",
            "-3.201881617282371\n",
            "test the derivative of the projection\n",
            "[-1.17332502  2.14297304 -0.62404931  0.9826862 ]\n",
            "[-1.17332502  2.14297304 -0.62404931  0.9826862 ]\n"
          ]
        }
      ]
    },
    {
      "cell_type": "markdown",
      "source": [
        "* Test the connection is indeed the Levi-Civita connection"
      ],
      "metadata": {
        "id": "AHDwMbHFDCpy"
      }
    },
    {
      "cell_type": "code",
      "source": [
        "print(jvp(lambda x: sph.inner(x, vb, vb), (x,), (va,))[1])\n",
        "print(2*sph.inner(x, vb,\n",
        "                  jvp(lambda x: sph.proj(x, vb), (x,), (va,))[1] + sph.gamma(x, va, vb)))\n"
      ],
      "metadata": {
        "colab": {
          "base_uri": "https://localhost:8080/"
        },
        "id": "WBaBMdeoDA47",
        "outputId": "d4b8caf9-1a86-4b18-da47-17cdb2a927c9"
      },
      "execution_count": 7,
      "outputs": [
        {
          "output_type": "stream",
          "name": "stdout",
          "text": [
            "-9.221260773940756\n",
            "-9.221260773940761\n"
          ]
        }
      ]
    },
    {
      "cell_type": "markdown",
      "source": [
        "* test generating the orthogonal basis. The usual method, null space of the constraint equation is usually expensive. In this case, since parallel transport for the round metric is cheap, we  use it to create an (not orthogonal) basis, then normalize it to make it orthogonal"
      ],
      "metadata": {
        "id": "6DYf3TozDPfy"
      }
    },
    {
      "cell_type": "code",
      "source": [
        "b1 = sph.make_tangent_basis(x)\n",
        "print(b1.shape)\n",
        "\n",
        "print(\n",
        "    jnp.array(\n",
        "        jax.vmap(lambda a:\n",
        "      [sph.inner(x, a, b1[:, i]) for i in range(b1.shape[1])], in_axes=1)(b1)).reshape(b1.shape[1], -1))\n",
        "\n"
      ],
      "metadata": {
        "colab": {
          "base_uri": "https://localhost:8080/"
        },
        "id": "4g3QkQr5DR74",
        "outputId": "a1e9f0bc-3952-4a67-8f74-0af95e33f238"
      },
      "execution_count": 8,
      "outputs": [
        {
          "output_type": "stream",
          "name": "stdout",
          "text": [
            "(4, 3)\n",
            "[[ 1.00000000e+00 -1.56125113e-16  1.24900090e-16]\n",
            " [-1.83880688e-16  1.00000000e+00 -3.50847823e-16]\n",
            " [ 1.24900090e-16 -3.45643653e-16  1.00000000e+00]]\n"
          ]
        }
      ]
    },
    {
      "cell_type": "markdown",
      "source": [
        "* check the function make_ambient_basis giving us an orthogonal basis for the metric defined by $D(x), C(x)$"
      ],
      "metadata": {
        "id": "EhkY26ewry2g"
      }
    },
    {
      "cell_type": "code",
      "source": [
        "\n",
        "b2 = sph.make_ambient_basis(x)\n",
        "print(b2.shape)\n",
        "print(\n",
        "    jnp.array(\n",
        "        jax.vmap(lambda a:\n",
        "      [sph.inner(x, a, b2[:, i]) for i in range(b2.shape[1])], in_axes=1)(b2)).reshape(b2.shape[1], -1))\n"
      ],
      "metadata": {
        "colab": {
          "base_uri": "https://localhost:8080/"
        },
        "id": "NqUzozvzqRH4",
        "outputId": "d6cb1f21-6561-42b6-d968-3298c1801319"
      },
      "execution_count": 9,
      "outputs": [
        {
          "output_type": "stream",
          "name": "stdout",
          "text": [
            "(4, 4)\n",
            "[[ 1.00000000e+00  1.38777878e-17  1.64798730e-17  1.56125113e-17]\n",
            " [ 1.38777878e-17  1.00000000e+00  1.38777878e-17 -1.66533454e-16]\n",
            " [ 1.64798730e-17  0.00000000e+00  1.00000000e+00 -2.18575158e-16]\n",
            " [ 1.64798730e-17 -1.80411242e-16 -2.18575158e-16  1.00000000e+00]]\n"
          ]
        }
      ]
    },
    {
      "cell_type": "markdown",
      "source": [
        "# The Spherical Laplacian and the Brownian drift on the variable metric on the EUclidean space.\n",
        "\n",
        "* The Laplacian is\n",
        "$$\\Delta f = g^{mn}(\\partial^2_{\\xi^m\\xi^n}-\\Gamma^l_{mn}\\partial_{\\xi^l})f\n",
        "$$\n",
        "\n",
        "The Brownian drift is\n",
        "$-\\frac{1}{2}g^{mn}\\Gamma^l_{mn}\\partial_{\\xi^l}$.\n"
      ],
      "metadata": {
        "id": "W59Ga9YqsYMo"
      }
    },
    {
      "cell_type": "markdown",
      "source": [
        "First check the g matrix."
      ],
      "metadata": {
        "id": "8wVa652TyjgZ"
      }
    },
    {
      "cell_type": "code",
      "source": [
        "imat = jnp.eye(d+1)\n",
        "gmat = jnp.array(\n",
        "        jax.vmap(lambda a:\n",
        "        [sph.inner(x, a, imat[:, i]) for i in range(imat.shape[1])], in_axes=1)(imat)).reshape(imat.shape[1], -1)\n",
        "\n",
        "print(gmat)\n",
        "print(jnp.diag(sph.D(x)) + sph.pm*sph.C(x)[:, None]@sph.C(x)[None, :])\n"
      ],
      "metadata": {
        "colab": {
          "base_uri": "https://localhost:8080/"
        },
        "id": "1bL1NrkltfiG",
        "outputId": "8ebecee6-2d29-45aa-e1c1-81324ccd9905"
      },
      "execution_count": 10,
      "outputs": [
        {
          "output_type": "stream",
          "name": "stdout",
          "text": [
            "[[ 1.09446095  0.13948704 -0.01677233 -0.0269987 ]\n",
            " [ 0.13948704  3.26489484 -0.23693234 -0.38139394]\n",
            " [-0.01677233 -0.23693234  1.18213097  0.04585992]\n",
            " [-0.0269987  -0.38139394  0.04585992  1.82617129]]\n",
            "[[ 1.09446095  0.13948704 -0.01677233 -0.0269987 ]\n",
            " [ 0.13948704  3.26489484 -0.23693234 -0.38139394]\n",
            " [-0.01677233 -0.23693234  1.18213097  0.04585992]\n",
            " [-0.0269987  -0.38139394  0.04585992  1.82617129]]\n"
          ]
        }
      ]
    },
    {
      "cell_type": "code",
      "source": [
        "from jax import jvp, grad\n",
        "\n",
        "def LaplacianAmbient_0(self, x, f):\n",
        "  tup = jnp.zeros(self.d+1)\n",
        "  ret = 0\n",
        "  for i in range(self.d+1):\n",
        "    v_i = tup.at[i].set(1.)\n",
        "    d2 = jvp(lambda x: grad(f)(x), (x,), (v_i,))\n",
        "    ret += jnp.sum((d2[1]- self.gamma_ambient(x, v_i, d2[0]))*self.inv_metric(x, v_i))\n",
        "  return ret\n",
        "\n",
        "def LaplacianAmbient(self, x, f):\n",
        "  tup = jnp.zeros(self.d+1)\n",
        "  ret = 0\n",
        "  grad_jit = jax.jit(grad(f))\n",
        "  gmat = jnp.diag(sph.D(x)) + sph.pm*sph.C(x)[:, None]@sph.C(x)[None, :]\n",
        "  igmat = jla.inv(gmat)\n",
        "\n",
        "  hess = jax.vmap(lambda xi: jvp(grad_jit, (x,), (xi,))[1])(jnp.eye(self.d+1))\n",
        "  # print(hess)\n",
        "  # print(igmat)\n",
        "  # print(jnp.sum(hess*igmat))\n",
        "  gm = 0\n",
        "  grdx = grad_jit(x)\n",
        "  for i in range(self.d+1):\n",
        "    v_i = tup.at[i].set(1.)\n",
        "    for j in range(self.d+1):\n",
        "      v_j = tup.at[j].set(1.)\n",
        "      gm += igmat[i, j]*jnp.sum(gamma_ambient(self,  x, v_i, v_j)*grdx)\n",
        "\n",
        "  return jnp.sum(hess*igmat) - gm\n",
        "\n",
        "\n",
        "print(LaplacianAmbient(sph, x, lambda x: jnp.sum(x*x)))\n",
        "print(sph.LaplacianAmbient(x, lambda x: jnp.sum(x*x)))\n",
        ""
      ],
      "metadata": {
        "colab": {
          "base_uri": "https://localhost:8080/"
        },
        "id": "7zvVchHt2VHI",
        "outputId": "c54aa7f2-95c9-4694-b117-c997dd345131"
      },
      "execution_count": 13,
      "outputs": [
        {
          "output_type": "stream",
          "name": "stdout",
          "text": [
            "5.445489629333139\n",
            "5.445489629333139\n"
          ]
        }
      ]
    },
    {
      "cell_type": "code",
      "source": [
        "\n",
        "def bd2(self, x):\n",
        "  tup = jnp.zeros(self.d+1)\n",
        "  ret2 = 0\n",
        "  for i in range(self.d+1):\n",
        "    v_i = tup.at[i].set(1)\n",
        "    for j in range(self.d+1):\n",
        "      v_j = tup.at[j].set(1)\n",
        "      ret2 += jnp.sum(v_i*self.inv_metric(x, v_j))*sph.gamma_ambient(x, v_i, v_j)\n",
        "  return -0.5*ret2\n",
        "\n",
        "ret2 = bd2(sph, x)\n",
        "print(ret2)\n",
        "print(sph.brownian_drift_ambient(x))\n"
      ],
      "metadata": {
        "colab": {
          "base_uri": "https://localhost:8080/"
        },
        "id": "exdcuNCxA2Wg",
        "outputId": "30520900-c47c-406a-9917-bbbade36f133"
      },
      "execution_count": 15,
      "outputs": [
        {
          "output_type": "stream",
          "name": "stdout",
          "text": [
            "[ 0.18521857  0.05386831 -0.0065454  -0.00939676]\n",
            "[ 0.18521857  0.05386831 -0.0065454  -0.00939676]\n"
          ]
        }
      ]
    }
  ]
}